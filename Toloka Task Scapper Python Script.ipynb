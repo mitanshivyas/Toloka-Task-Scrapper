{
 "cells": [
  {
   "cell_type": "markdown",
   "id": "d6588d02",
   "metadata": {},
   "source": [
    "## The purpose of this python script is to scrape tasks off of the freelancing platform Toloka"
   ]
  },
  {
   "cell_type": "markdown",
   "id": "28b3ef5f",
   "metadata": {},
   "source": [
    "### Importing Dependencies"
   ]
  },
  {
   "cell_type": "code",
   "execution_count": 4,
   "id": "9760e237",
   "metadata": {},
   "outputs": [],
   "source": [
    "import requests\n",
    "from lxml import html"
   ]
  },
  {
   "cell_type": "markdown",
   "id": "4a6bfe5b",
   "metadata": {},
   "source": [
    "### Fetching the content from Toloka"
   ]
  },
  {
   "cell_type": "code",
   "execution_count": 5,
   "id": "aaa375fb",
   "metadata": {},
   "outputs": [],
   "source": [
    "myToken = \"y0_AgAAAABkcQnJAACtpQAAAADO2AZOBndtdy51TQKGGGQ8qCdk0Z57kCs\""
   ]
  },
  {
   "cell_type": "code",
   "execution_count": 6,
   "id": "c90656a1",
   "metadata": {},
   "outputs": [],
   "source": [
    "myUrl=\"https://toloka.yandex.com/api/task-suite-pool-groups?userLangs=en\"\n",
    "head = {'Authorization': 'OAuth {}'.format(myToken)}\n",
    "poolsres = requests.get(myUrl, headers=head)"
   ]
  },
  {
   "cell_type": "code",
   "execution_count": 9,
   "id": "f0c740a8",
   "metadata": {},
   "outputs": [],
   "source": [
    "# storing the fetched content into variable 'toloka_content'\n",
    "toloka_content = poolsres.json()"
   ]
  },
  {
   "cell_type": "code",
   "execution_count": 10,
   "id": "ea650735",
   "metadata": {
    "scrolled": true
   },
   "outputs": [
    {
     "name": "stdout",
     "output_type": "stream",
     "text": [
      "[{'refUuid': '7f82be33-fa2d-4035-a612-1f6833495b09', 'groupUuid': 'ca5b8c8c-5e37-47c5-8eaa-18bc7114f759', 'projectId': 37784, 'mayContainAdultContent': False, 'title': 'Take a short (minimum 10 sec) selfie video from your computer', 'description': 'In this task, you need to make a short selfie video to the built-in / external webcam of your computer / laptop', 'hasInstructions': True, 'snapshotMajorVersion': 1, 'snapshotMinorVersion': 2, 'snapshotMajorVersionActual': True, 'assignmentIssuingType': 'AUTOMATIC', 'requesterInfo': {'id': '030ece62941d6939881f89071d3046f0', 'name': {'EN': 'STC'}, 'trusted': False}, 'availability': {'available': True}, 'postAccept': True, 'iframeSubdomain': '030ece62941d6939881f89071d3046f0', 'trainingDetails': {'training': False}, 'projectStats': {'acceptanceRate': 55, 'averageAcceptanceTimeSec': 281946, 'averageSubmitTimeSec': 409, 'moneyAvgHourly': 0.44009784, 'moneyAvg': 0.04, 'moneyMed': 0.04, 'moneyTop10': 0.04}, 'pools': [{'id': 36030523, 'startedAt': '2022-10-24T20:22:09.931', 'reward': '0.050', 'assignmentMaxDurationSeconds': 7200, 'acceptancePeriodDays': 21}], 'projectMetaInfo': {'projectId': 37784, 'experimentMeta': {'dj_task_duration__snippet__duration_from_minute_to_five': '1', 'dj_project_class__snippet__user_content': '1', 'dj_project_tag__requester_type__snippet__experienced_requester': '1'}}}, {'refUuid': '7f82be33-fa2d-4035-a612-1f6833495b09', 'groupUuid': '93cdc5cb-a83b-402d-81ed-3ad436fd436c', 'projectId': 85377, 'mayContainAdultContent': False, 'title': 'Object recognition & detection', 'description': 'Outline a road signs in images', 'hasInstructions': True, 'snapshotMajorVersion': 1, 'snapshotMinorVersion': 1, 'snapshotMajorVersionActual': True, 'assignmentIssuingType': 'AUTOMATIC', 'requesterInfo': {'id': 'a841946b60a3fc816968533af5f8b371', 'name': {'EN': 'michaelyuyangtong'}, 'trusted': False}, 'availability': {'available': True}, 'postAccept': True, 'iframeSubdomain': 'a841946b60a3fc816968533af5f8b371', 'trainingDetails': {'training': False}, 'projectStats': {'grade': {'total_grade': 2.06}}, 'pools': [{'id': 32474078, 'startedAt': '2022-03-20T11:29:40.108', 'reward': '0.010', 'assignmentMaxDurationSeconds': 300, 'acceptancePeriodDays': 7}], 'projectMetaInfo': {'projectId': 85377, 'experimentMeta': {'dj_project_class__snippet__segmentation': '1'}}}, {'refUuid': '7f82be33-fa2d-4035-a612-1f6833495b09', 'groupUuid': 'aaddcf4a-e4a2-422e-86e3-4bcc3949ff49', 'projectId': 105273, 'mayContainAdultContent': False, 'lang': 'EN', 'title': '[Toloka] English Grammar Test', 'description': \"Take the test and get more paid tasks.\\nAfter you pass the test, you'll get access to more difficult tasks that require advanced language skills.\", 'hasInstructions': True, 'snapshotMajorVersion': 1, 'snapshotMinorVersion': 1, 'snapshotMajorVersionActual': True, 'assignmentIssuingType': 'AUTOMATIC', 'requesterInfo': {'id': '71daea4cffae4488067aebfb6583914a', 'name': {'EN': 'Toloka'}, 'trusted': False}, 'availability': {'available': True}, 'postAccept': False, 'iframeSubdomain': '71daea4cffae4488067aebfb6583914a', 'trainingDetails': {'training': False}, 'projectStats': {'grade': {'total_grade': 4.37}, 'averageSubmitTimeSec': 308, 'moneyAvgHourly': 0.0}, 'pools': [{'id': 36185755, 'startedAt': '2022-11-03T19:07:12.911', 'reward': '0.000', 'assignmentMaxDurationSeconds': 900, 'regularSubtype': 'EXAM'}], 'projectMetaInfo': {'projectId': 105273, 'experimentMeta': {'dj_task_duration__snippet__duration_from_minute_to_five': '1', 'dj_project_tag__requester_type__snippet__experienced_requester': '1'}}}, {'refUuid': '7f82be33-fa2d-4035-a612-1f6833495b09', 'groupUuid': 'ed011b54-4102-44b1-90ea-4ffc4d844bb7', 'projectId': 78414, 'mayContainAdultContent': False, 'lang': 'EN', 'title': 'Check the similarity between two products', 'description': 'In this task, you will see two product listings. The PRODUCT is a product that a user has bookmarked for \\nwhich we would like to show them. The RECOMMENDED PRODUCT offers a product we \\nmight suggest to the user. The goal of this task is to classify these recommendations into one of the \\nfollowing categories based on how closely the RECOMMENDED PRODUCT matches the PRODUCT.', 'hasInstructions': True, 'snapshotMajorVersion': 5, 'snapshotMinorVersion': 11, 'snapshotMajorVersionActual': True, 'assignmentIssuingType': 'AUTOMATIC', 'requesterInfo': {'id': 'dbaa749ed83b3ef412a3167f6c53c363', 'name': {'EN': 'ADE4PA'}, 'trusted': False}, 'availability': {'available': True}, 'postAccept': False, 'iframeSubdomain': 'dbaa749ed83b3ef412a3167f6c53c363', 'trainingDetails': {'training': True, 'regularSubtype': 'EXAM', 'regularPoolReward': '0.000', 'mayContainAdultContent': False, 'maxDurationSeconds': 600, 'acceptanceDetails': {'postAccept': False}}, 'projectStats': {'grade': {'total_grade': 4.35}, 'averageSubmitTimeSec': 318, 'moneyAvgHourly': 0.0, 'moneyAvg': 0.3, 'moneyMed': 0.0, 'moneyTop10': 0.24, 'moneyMax3': 19.42}, 'pools': [{'id': 35838995, 'startedAt': '2022-10-11T23:36:03.957', 'reward': '0.000', 'assignmentMaxDurationSeconds': 120}], 'projectMetaInfo': {'projectId': 78414, 'experimentMeta': {'dj_task_duration__snippet__duration_less_than_minute': '1', 'dj_project_class__snippet__relevance': '1', 'dj_project_tag__requester_type__snippet__experienced_requester': '1'}}}]\n"
     ]
    }
   ],
   "source": [
    "# having a look at the content\n",
    "print(toloka_content)"
   ]
  },
  {
   "cell_type": "code",
   "execution_count": 18,
   "id": "069d2e30",
   "metadata": {},
   "outputs": [],
   "source": [
    "# creating a separate dictionary for separate tasks\n",
    "\n",
    "def create_tasks_dictionary(content):\n",
    "    dicts = []\n",
    "    for i in range(len(content)):\n",
    "        individual_dicts = dict(content[i])\n",
    "        dicts.append(individual_dicts)\n",
    "    return dicts"
   ]
  },
  {
   "cell_type": "code",
   "execution_count": 17,
   "id": "974c388c",
   "metadata": {},
   "outputs": [
    {
     "name": "stdout",
     "output_type": "stream",
     "text": [
      "The total number of tasks: 4\n"
     ]
    }
   ],
   "source": [
    "tasks_dictionary = create_tasks_dictionary(toloka_content)\n",
    "\n",
    "print('The total number of tasks: ' + str(len(tasks_dictionary)))"
   ]
  },
  {
   "cell_type": "code",
   "execution_count": 14,
   "id": "58e62d76",
   "metadata": {
    "scrolled": true
   },
   "outputs": [
    {
     "name": "stdout",
     "output_type": "stream",
     "text": [
      "[{'refUuid': '7f82be33-fa2d-4035-a612-1f6833495b09', 'groupUuid': 'ca5b8c8c-5e37-47c5-8eaa-18bc7114f759', 'projectId': 37784, 'mayContainAdultContent': False, 'title': 'Take a short (minimum 10 sec) selfie video from your computer', 'description': 'In this task, you need to make a short selfie video to the built-in / external webcam of your computer / laptop', 'hasInstructions': True, 'snapshotMajorVersion': 1, 'snapshotMinorVersion': 2, 'snapshotMajorVersionActual': True, 'assignmentIssuingType': 'AUTOMATIC', 'requesterInfo': {'id': '030ece62941d6939881f89071d3046f0', 'name': {'EN': 'STC'}, 'trusted': False}, 'availability': {'available': True}, 'postAccept': True, 'iframeSubdomain': '030ece62941d6939881f89071d3046f0', 'trainingDetails': {'training': False}, 'projectStats': {'acceptanceRate': 55, 'averageAcceptanceTimeSec': 281946, 'averageSubmitTimeSec': 409, 'moneyAvgHourly': 0.44009784, 'moneyAvg': 0.04, 'moneyMed': 0.04, 'moneyTop10': 0.04}, 'pools': [{'id': 36030523, 'startedAt': '2022-10-24T20:22:09.931', 'reward': '0.050', 'assignmentMaxDurationSeconds': 7200, 'acceptancePeriodDays': 21}], 'projectMetaInfo': {'projectId': 37784, 'experimentMeta': {'dj_task_duration__snippet__duration_from_minute_to_five': '1', 'dj_project_class__snippet__user_content': '1', 'dj_project_tag__requester_type__snippet__experienced_requester': '1'}}}, {'refUuid': '7f82be33-fa2d-4035-a612-1f6833495b09', 'groupUuid': '93cdc5cb-a83b-402d-81ed-3ad436fd436c', 'projectId': 85377, 'mayContainAdultContent': False, 'title': 'Object recognition & detection', 'description': 'Outline a road signs in images', 'hasInstructions': True, 'snapshotMajorVersion': 1, 'snapshotMinorVersion': 1, 'snapshotMajorVersionActual': True, 'assignmentIssuingType': 'AUTOMATIC', 'requesterInfo': {'id': 'a841946b60a3fc816968533af5f8b371', 'name': {'EN': 'michaelyuyangtong'}, 'trusted': False}, 'availability': {'available': True}, 'postAccept': True, 'iframeSubdomain': 'a841946b60a3fc816968533af5f8b371', 'trainingDetails': {'training': False}, 'projectStats': {'grade': {'total_grade': 2.06}}, 'pools': [{'id': 32474078, 'startedAt': '2022-03-20T11:29:40.108', 'reward': '0.010', 'assignmentMaxDurationSeconds': 300, 'acceptancePeriodDays': 7}], 'projectMetaInfo': {'projectId': 85377, 'experimentMeta': {'dj_project_class__snippet__segmentation': '1'}}}, {'refUuid': '7f82be33-fa2d-4035-a612-1f6833495b09', 'groupUuid': 'aaddcf4a-e4a2-422e-86e3-4bcc3949ff49', 'projectId': 105273, 'mayContainAdultContent': False, 'lang': 'EN', 'title': '[Toloka] English Grammar Test', 'description': \"Take the test and get more paid tasks.\\nAfter you pass the test, you'll get access to more difficult tasks that require advanced language skills.\", 'hasInstructions': True, 'snapshotMajorVersion': 1, 'snapshotMinorVersion': 1, 'snapshotMajorVersionActual': True, 'assignmentIssuingType': 'AUTOMATIC', 'requesterInfo': {'id': '71daea4cffae4488067aebfb6583914a', 'name': {'EN': 'Toloka'}, 'trusted': False}, 'availability': {'available': True}, 'postAccept': False, 'iframeSubdomain': '71daea4cffae4488067aebfb6583914a', 'trainingDetails': {'training': False}, 'projectStats': {'grade': {'total_grade': 4.37}, 'averageSubmitTimeSec': 308, 'moneyAvgHourly': 0.0}, 'pools': [{'id': 36185755, 'startedAt': '2022-11-03T19:07:12.911', 'reward': '0.000', 'assignmentMaxDurationSeconds': 900, 'regularSubtype': 'EXAM'}], 'projectMetaInfo': {'projectId': 105273, 'experimentMeta': {'dj_task_duration__snippet__duration_from_minute_to_five': '1', 'dj_project_tag__requester_type__snippet__experienced_requester': '1'}}}, {'refUuid': '7f82be33-fa2d-4035-a612-1f6833495b09', 'groupUuid': 'ed011b54-4102-44b1-90ea-4ffc4d844bb7', 'projectId': 78414, 'mayContainAdultContent': False, 'lang': 'EN', 'title': 'Check the similarity between two products', 'description': 'In this task, you will see two product listings. The PRODUCT is a product that a user has bookmarked for \\nwhich we would like to show them. The RECOMMENDED PRODUCT offers a product we \\nmight suggest to the user. The goal of this task is to classify these recommendations into one of the \\nfollowing categories based on how closely the RECOMMENDED PRODUCT matches the PRODUCT.', 'hasInstructions': True, 'snapshotMajorVersion': 5, 'snapshotMinorVersion': 11, 'snapshotMajorVersionActual': True, 'assignmentIssuingType': 'AUTOMATIC', 'requesterInfo': {'id': 'dbaa749ed83b3ef412a3167f6c53c363', 'name': {'EN': 'ADE4PA'}, 'trusted': False}, 'availability': {'available': True}, 'postAccept': False, 'iframeSubdomain': 'dbaa749ed83b3ef412a3167f6c53c363', 'trainingDetails': {'training': True, 'regularSubtype': 'EXAM', 'regularPoolReward': '0.000', 'mayContainAdultContent': False, 'maxDurationSeconds': 600, 'acceptanceDetails': {'postAccept': False}}, 'projectStats': {'grade': {'total_grade': 4.35}, 'averageSubmitTimeSec': 318, 'moneyAvgHourly': 0.0, 'moneyAvg': 0.3, 'moneyMed': 0.0, 'moneyTop10': 0.24, 'moneyMax3': 19.42}, 'pools': [{'id': 35838995, 'startedAt': '2022-10-11T23:36:03.957', 'reward': '0.000', 'assignmentMaxDurationSeconds': 120}], 'projectMetaInfo': {'projectId': 78414, 'experimentMeta': {'dj_task_duration__snippet__duration_less_than_minute': '1', 'dj_project_class__snippet__relevance': '1', 'dj_project_tag__requester_type__snippet__experienced_requester': '1'}}}]\n"
     ]
    }
   ],
   "source": [
    "print(tasks_dictionary)"
   ]
  },
  {
   "cell_type": "markdown",
   "id": "77d0686f",
   "metadata": {},
   "source": [
    "### Fetching the lists of Tasks from the Toloka Content"
   ]
  },
  {
   "cell_type": "code",
   "execution_count": 20,
   "id": "cf1c8eb2",
   "metadata": {},
   "outputs": [],
   "source": [
    "# creating a function to fetch the list of tasks from the tasks dictionary we created above\n",
    "def fetch_tasks(task_dict):\n",
    "    tasks = []\n",
    "    for i in range(len(task_dict)):\n",
    "        title = task_dict[i].get('title')\n",
    "        tasks.append(title)\n",
    "    return tasks"
   ]
  },
  {
   "cell_type": "code",
   "execution_count": 21,
   "id": "a7d9f190",
   "metadata": {},
   "outputs": [],
   "source": [
    "list_of_tasks = fetch_tasks(tasks_dictionary)"
   ]
  },
  {
   "cell_type": "code",
   "execution_count": 22,
   "id": "9b589799",
   "metadata": {},
   "outputs": [
    {
     "name": "stdout",
     "output_type": "stream",
     "text": [
      "The list of tasks on Toloka is provided below:\n",
      " \n",
      "1 Take a short (minimum 10 sec) selfie video from your computer\n",
      "2 Object recognition & detection\n",
      "3 [Toloka] English Grammar Test\n",
      "4 Check the similarity between two products\n"
     ]
    }
   ],
   "source": [
    "# printing the lists of tasks available on Toloka\n",
    "print(\"The list of tasks on Toloka is provided below:\")\n",
    "print(' ')\n",
    "for i in range(len(list_of_tasks)):\n",
    "    print(str(i+1)+ ' '+ str(list_of_tasks[i]))"
   ]
  },
  {
   "cell_type": "code",
   "execution_count": null,
   "id": "73af80a3",
   "metadata": {},
   "outputs": [],
   "source": []
  }
 ],
 "metadata": {
  "kernelspec": {
   "display_name": "Python 3 (ipykernel)",
   "language": "python",
   "name": "python3"
  },
  "language_info": {
   "codemirror_mode": {
    "name": "ipython",
    "version": 3
   },
   "file_extension": ".py",
   "mimetype": "text/x-python",
   "name": "python",
   "nbconvert_exporter": "python",
   "pygments_lexer": "ipython3",
   "version": "3.9.12"
  }
 },
 "nbformat": 4,
 "nbformat_minor": 5
}
