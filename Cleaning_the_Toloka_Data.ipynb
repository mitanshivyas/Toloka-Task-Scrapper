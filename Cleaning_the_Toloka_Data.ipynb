{
  "nbformat": 4,
  "nbformat_minor": 0,
  "metadata": {
    "colab": {
      "provenance": []
    },
    "kernelspec": {
      "name": "python3",
      "display_name": "Python 3"
    },
    "language_info": {
      "name": "python"
    }
  },
  "cells": [
    {
      "cell_type": "markdown",
      "source": [
        "# Loading and Cleaning the Toloka Data"
      ],
      "metadata": {
        "id": "NemFDHUMxdyH"
      }
    },
    {
      "cell_type": "code",
      "execution_count": 2,
      "metadata": {
        "id": "SfcThDM4NVqJ"
      },
      "outputs": [],
      "source": [
        "import pandas as pd\n",
        "import io"
      ]
    },
    {
      "cell_type": "code",
      "source": [
        "from google.colab import files\n",
        "uploaded = files.upload()"
      ],
      "metadata": {
        "colab": {
          "base_uri": "https://localhost:8080/",
          "height": 73
        },
        "id": "r3hLb22QPfD8",
        "outputId": "7537193a-8798-4bfa-c502-3c5086c59fbd"
      },
      "execution_count": 3,
      "outputs": [
        {
          "output_type": "display_data",
          "data": {
            "text/plain": [
              "<IPython.core.display.HTML object>"
            ],
            "text/html": [
              "\n",
              "     <input type=\"file\" id=\"files-e7d31cad-4ad2-4930-8166-67e040953fa3\" name=\"files[]\" multiple disabled\n",
              "        style=\"border:none\" />\n",
              "     <output id=\"result-e7d31cad-4ad2-4930-8166-67e040953fa3\">\n",
              "      Upload widget is only available when the cell has been executed in the\n",
              "      current browser session. Please rerun this cell to enable.\n",
              "      </output>\n",
              "      <script>// Copyright 2017 Google LLC\n",
              "//\n",
              "// Licensed under the Apache License, Version 2.0 (the \"License\");\n",
              "// you may not use this file except in compliance with the License.\n",
              "// You may obtain a copy of the License at\n",
              "//\n",
              "//      http://www.apache.org/licenses/LICENSE-2.0\n",
              "//\n",
              "// Unless required by applicable law or agreed to in writing, software\n",
              "// distributed under the License is distributed on an \"AS IS\" BASIS,\n",
              "// WITHOUT WARRANTIES OR CONDITIONS OF ANY KIND, either express or implied.\n",
              "// See the License for the specific language governing permissions and\n",
              "// limitations under the License.\n",
              "\n",
              "/**\n",
              " * @fileoverview Helpers for google.colab Python module.\n",
              " */\n",
              "(function(scope) {\n",
              "function span(text, styleAttributes = {}) {\n",
              "  const element = document.createElement('span');\n",
              "  element.textContent = text;\n",
              "  for (const key of Object.keys(styleAttributes)) {\n",
              "    element.style[key] = styleAttributes[key];\n",
              "  }\n",
              "  return element;\n",
              "}\n",
              "\n",
              "// Max number of bytes which will be uploaded at a time.\n",
              "const MAX_PAYLOAD_SIZE = 100 * 1024;\n",
              "\n",
              "function _uploadFiles(inputId, outputId) {\n",
              "  const steps = uploadFilesStep(inputId, outputId);\n",
              "  const outputElement = document.getElementById(outputId);\n",
              "  // Cache steps on the outputElement to make it available for the next call\n",
              "  // to uploadFilesContinue from Python.\n",
              "  outputElement.steps = steps;\n",
              "\n",
              "  return _uploadFilesContinue(outputId);\n",
              "}\n",
              "\n",
              "// This is roughly an async generator (not supported in the browser yet),\n",
              "// where there are multiple asynchronous steps and the Python side is going\n",
              "// to poll for completion of each step.\n",
              "// This uses a Promise to block the python side on completion of each step,\n",
              "// then passes the result of the previous step as the input to the next step.\n",
              "function _uploadFilesContinue(outputId) {\n",
              "  const outputElement = document.getElementById(outputId);\n",
              "  const steps = outputElement.steps;\n",
              "\n",
              "  const next = steps.next(outputElement.lastPromiseValue);\n",
              "  return Promise.resolve(next.value.promise).then((value) => {\n",
              "    // Cache the last promise value to make it available to the next\n",
              "    // step of the generator.\n",
              "    outputElement.lastPromiseValue = value;\n",
              "    return next.value.response;\n",
              "  });\n",
              "}\n",
              "\n",
              "/**\n",
              " * Generator function which is called between each async step of the upload\n",
              " * process.\n",
              " * @param {string} inputId Element ID of the input file picker element.\n",
              " * @param {string} outputId Element ID of the output display.\n",
              " * @return {!Iterable<!Object>} Iterable of next steps.\n",
              " */\n",
              "function* uploadFilesStep(inputId, outputId) {\n",
              "  const inputElement = document.getElementById(inputId);\n",
              "  inputElement.disabled = false;\n",
              "\n",
              "  const outputElement = document.getElementById(outputId);\n",
              "  outputElement.innerHTML = '';\n",
              "\n",
              "  const pickedPromise = new Promise((resolve) => {\n",
              "    inputElement.addEventListener('change', (e) => {\n",
              "      resolve(e.target.files);\n",
              "    });\n",
              "  });\n",
              "\n",
              "  const cancel = document.createElement('button');\n",
              "  inputElement.parentElement.appendChild(cancel);\n",
              "  cancel.textContent = 'Cancel upload';\n",
              "  const cancelPromise = new Promise((resolve) => {\n",
              "    cancel.onclick = () => {\n",
              "      resolve(null);\n",
              "    };\n",
              "  });\n",
              "\n",
              "  // Wait for the user to pick the files.\n",
              "  const files = yield {\n",
              "    promise: Promise.race([pickedPromise, cancelPromise]),\n",
              "    response: {\n",
              "      action: 'starting',\n",
              "    }\n",
              "  };\n",
              "\n",
              "  cancel.remove();\n",
              "\n",
              "  // Disable the input element since further picks are not allowed.\n",
              "  inputElement.disabled = true;\n",
              "\n",
              "  if (!files) {\n",
              "    return {\n",
              "      response: {\n",
              "        action: 'complete',\n",
              "      }\n",
              "    };\n",
              "  }\n",
              "\n",
              "  for (const file of files) {\n",
              "    const li = document.createElement('li');\n",
              "    li.append(span(file.name, {fontWeight: 'bold'}));\n",
              "    li.append(span(\n",
              "        `(${file.type || 'n/a'}) - ${file.size} bytes, ` +\n",
              "        `last modified: ${\n",
              "            file.lastModifiedDate ? file.lastModifiedDate.toLocaleDateString() :\n",
              "                                    'n/a'} - `));\n",
              "    const percent = span('0% done');\n",
              "    li.appendChild(percent);\n",
              "\n",
              "    outputElement.appendChild(li);\n",
              "\n",
              "    const fileDataPromise = new Promise((resolve) => {\n",
              "      const reader = new FileReader();\n",
              "      reader.onload = (e) => {\n",
              "        resolve(e.target.result);\n",
              "      };\n",
              "      reader.readAsArrayBuffer(file);\n",
              "    });\n",
              "    // Wait for the data to be ready.\n",
              "    let fileData = yield {\n",
              "      promise: fileDataPromise,\n",
              "      response: {\n",
              "        action: 'continue',\n",
              "      }\n",
              "    };\n",
              "\n",
              "    // Use a chunked sending to avoid message size limits. See b/62115660.\n",
              "    let position = 0;\n",
              "    do {\n",
              "      const length = Math.min(fileData.byteLength - position, MAX_PAYLOAD_SIZE);\n",
              "      const chunk = new Uint8Array(fileData, position, length);\n",
              "      position += length;\n",
              "\n",
              "      const base64 = btoa(String.fromCharCode.apply(null, chunk));\n",
              "      yield {\n",
              "        response: {\n",
              "          action: 'append',\n",
              "          file: file.name,\n",
              "          data: base64,\n",
              "        },\n",
              "      };\n",
              "\n",
              "      let percentDone = fileData.byteLength === 0 ?\n",
              "          100 :\n",
              "          Math.round((position / fileData.byteLength) * 100);\n",
              "      percent.textContent = `${percentDone}% done`;\n",
              "\n",
              "    } while (position < fileData.byteLength);\n",
              "  }\n",
              "\n",
              "  // All done.\n",
              "  yield {\n",
              "    response: {\n",
              "      action: 'complete',\n",
              "    }\n",
              "  };\n",
              "}\n",
              "\n",
              "scope.google = scope.google || {};\n",
              "scope.google.colab = scope.google.colab || {};\n",
              "scope.google.colab._files = {\n",
              "  _uploadFiles,\n",
              "  _uploadFilesContinue,\n",
              "};\n",
              "})(self);\n",
              "</script> "
            ]
          },
          "metadata": {}
        },
        {
          "output_type": "stream",
          "name": "stdout",
          "text": [
            "Saving new_df2.csv to new_df2.csv\n"
          ]
        }
      ]
    },
    {
      "cell_type": "code",
      "source": [
        "df = pd.read_csv(io.BytesIO(uploaded['new_df2.csv']))"
      ],
      "metadata": {
        "id": "AwLnKk97OXQd"
      },
      "execution_count": 4,
      "outputs": []
    },
    {
      "cell_type": "code",
      "source": [
        "df.head()"
      ],
      "metadata": {
        "colab": {
          "base_uri": "https://localhost:8080/",
          "height": 595
        },
        "id": "SIk8G1IwP6Ow",
        "outputId": "b458b7d5-b045-438e-b47b-6261890f4869"
      },
      "execution_count": 5,
      "outputs": [
        {
          "output_type": "execute_result",
          "data": {
            "text/plain": [
              "   Unnamed: 0                                           title  project_id  \\\n",
              "0           0                   [Toloka] English Grammar Test      105273   \n",
              "1           1                   [Toloka] English Grammar Test      105273   \n",
              "2           2       [Toloka] Prueba de comprensión de español       62518   \n",
              "3           3                    Page relevance (new version)       81714   \n",
              "4           4  Is the image a good picture of the zoo animal?       84339   \n",
              "\n",
              "   adult_content lang                                        description  \\\n",
              "0            0.0   EN  Take the test and get more paid tasks.\\nAfter ...   \n",
              "1            0.0   EN  Take the test and get more paid tasks.\\nAfter ...   \n",
              "2            0.0   EN  Haz la prueba y recibe más tareas pagadas.\\nSi...   \n",
              "3            0.0  NaN  Passing the exam with a good quality opens the...   \n",
              "4            1.0   EN  Please judge if the image is showing a correct...   \n",
              "\n",
              "   instructions_flag                      requester_id  \\\n",
              "0                1.0  71daea4cffae4488067aebfb6583914a   \n",
              "1                1.0  71daea4cffae4488067aebfb6583914a   \n",
              "2                0.0  71daea4cffae4488067aebfb6583914a   \n",
              "3                1.0  0f3f3a1c8053bf6128f7a3b730e9162c   \n",
              "4                1.0  e134d662550bd2d2176b4f3e515f6e23   \n",
              "\n",
              "   requester_trusted_flag  project_stat  ...  moneyMax3     pool_id  \\\n",
              "0                     0.0          4.75  ...        NaN  36185755.0   \n",
              "1                     0.0          4.75  ...        NaN  36185755.0   \n",
              "2                     0.0          4.50  ...        NaN  35994576.0   \n",
              "3                     1.0          4.39  ...       0.31  33608621.0   \n",
              "4                     0.0          4.57  ...        NaN  32387125.0   \n",
              "\n",
              "            pool_started_at  acceptance_period       user_id  \\\n",
              "0   2022-11-03T19:07:12.911                NaN  1.699066e+09   \n",
              "1  2022-11-03T19:07:13.000Z                NaN  1.699066e+09   \n",
              "2  2022-10-22T06:38:00.000Z                NaN  1.699066e+09   \n",
              "3  2022-05-27T08:40:05.000Z                NaN  1.699066e+09   \n",
              "4  2022-03-15T21:21:42.000Z                NaN  1.699066e+09   \n",
              "\n",
              "  task_attempted_flag  country  user_language                 birth_day  \\\n",
              "0                True       US             EN  2000-07-07T00:00:00.000Z   \n",
              "1                True       US             EN  2000-07-07T00:00:00.000Z   \n",
              "2                True       US             EN  2000-07-07T00:00:00.000Z   \n",
              "3                True       US             EN  2000-07-07T00:00:00.000Z   \n",
              "4                True       US             EN  2000-07-07T00:00:00.000Z   \n",
              "\n",
              "                     joined  \n",
              "0  2022-10-11T00:00:00.000Z  \n",
              "1  2022-10-11T00:00:00.000Z  \n",
              "2  2022-10-11T00:00:00.000Z  \n",
              "3  2022-10-11T00:00:00.000Z  \n",
              "4  2022-10-11T00:00:00.000Z  \n",
              "\n",
              "[5 rows x 23 columns]"
            ],
            "text/html": [
              "\n",
              "  <div id=\"df-4929210f-0b2d-493e-bdd1-29aa5afb05db\">\n",
              "    <div class=\"colab-df-container\">\n",
              "      <div>\n",
              "<style scoped>\n",
              "    .dataframe tbody tr th:only-of-type {\n",
              "        vertical-align: middle;\n",
              "    }\n",
              "\n",
              "    .dataframe tbody tr th {\n",
              "        vertical-align: top;\n",
              "    }\n",
              "\n",
              "    .dataframe thead th {\n",
              "        text-align: right;\n",
              "    }\n",
              "</style>\n",
              "<table border=\"1\" class=\"dataframe\">\n",
              "  <thead>\n",
              "    <tr style=\"text-align: right;\">\n",
              "      <th></th>\n",
              "      <th>Unnamed: 0</th>\n",
              "      <th>title</th>\n",
              "      <th>project_id</th>\n",
              "      <th>adult_content</th>\n",
              "      <th>lang</th>\n",
              "      <th>description</th>\n",
              "      <th>instructions_flag</th>\n",
              "      <th>requester_id</th>\n",
              "      <th>requester_trusted_flag</th>\n",
              "      <th>project_stat</th>\n",
              "      <th>...</th>\n",
              "      <th>moneyMax3</th>\n",
              "      <th>pool_id</th>\n",
              "      <th>pool_started_at</th>\n",
              "      <th>acceptance_period</th>\n",
              "      <th>user_id</th>\n",
              "      <th>task_attempted_flag</th>\n",
              "      <th>country</th>\n",
              "      <th>user_language</th>\n",
              "      <th>birth_day</th>\n",
              "      <th>joined</th>\n",
              "    </tr>\n",
              "  </thead>\n",
              "  <tbody>\n",
              "    <tr>\n",
              "      <th>0</th>\n",
              "      <td>0</td>\n",
              "      <td>[Toloka] English Grammar Test</td>\n",
              "      <td>105273</td>\n",
              "      <td>0.0</td>\n",
              "      <td>EN</td>\n",
              "      <td>Take the test and get more paid tasks.\\nAfter ...</td>\n",
              "      <td>1.0</td>\n",
              "      <td>71daea4cffae4488067aebfb6583914a</td>\n",
              "      <td>0.0</td>\n",
              "      <td>4.75</td>\n",
              "      <td>...</td>\n",
              "      <td>NaN</td>\n",
              "      <td>36185755.0</td>\n",
              "      <td>2022-11-03T19:07:12.911</td>\n",
              "      <td>NaN</td>\n",
              "      <td>1.699066e+09</td>\n",
              "      <td>True</td>\n",
              "      <td>US</td>\n",
              "      <td>EN</td>\n",
              "      <td>2000-07-07T00:00:00.000Z</td>\n",
              "      <td>2022-10-11T00:00:00.000Z</td>\n",
              "    </tr>\n",
              "    <tr>\n",
              "      <th>1</th>\n",
              "      <td>1</td>\n",
              "      <td>[Toloka] English Grammar Test</td>\n",
              "      <td>105273</td>\n",
              "      <td>0.0</td>\n",
              "      <td>EN</td>\n",
              "      <td>Take the test and get more paid tasks.\\nAfter ...</td>\n",
              "      <td>1.0</td>\n",
              "      <td>71daea4cffae4488067aebfb6583914a</td>\n",
              "      <td>0.0</td>\n",
              "      <td>4.75</td>\n",
              "      <td>...</td>\n",
              "      <td>NaN</td>\n",
              "      <td>36185755.0</td>\n",
              "      <td>2022-11-03T19:07:13.000Z</td>\n",
              "      <td>NaN</td>\n",
              "      <td>1.699066e+09</td>\n",
              "      <td>True</td>\n",
              "      <td>US</td>\n",
              "      <td>EN</td>\n",
              "      <td>2000-07-07T00:00:00.000Z</td>\n",
              "      <td>2022-10-11T00:00:00.000Z</td>\n",
              "    </tr>\n",
              "    <tr>\n",
              "      <th>2</th>\n",
              "      <td>2</td>\n",
              "      <td>[Toloka] Prueba de comprensión de español</td>\n",
              "      <td>62518</td>\n",
              "      <td>0.0</td>\n",
              "      <td>EN</td>\n",
              "      <td>Haz la prueba y recibe más tareas pagadas.\\nSi...</td>\n",
              "      <td>0.0</td>\n",
              "      <td>71daea4cffae4488067aebfb6583914a</td>\n",
              "      <td>0.0</td>\n",
              "      <td>4.50</td>\n",
              "      <td>...</td>\n",
              "      <td>NaN</td>\n",
              "      <td>35994576.0</td>\n",
              "      <td>2022-10-22T06:38:00.000Z</td>\n",
              "      <td>NaN</td>\n",
              "      <td>1.699066e+09</td>\n",
              "      <td>True</td>\n",
              "      <td>US</td>\n",
              "      <td>EN</td>\n",
              "      <td>2000-07-07T00:00:00.000Z</td>\n",
              "      <td>2022-10-11T00:00:00.000Z</td>\n",
              "    </tr>\n",
              "    <tr>\n",
              "      <th>3</th>\n",
              "      <td>3</td>\n",
              "      <td>Page relevance (new version)</td>\n",
              "      <td>81714</td>\n",
              "      <td>0.0</td>\n",
              "      <td>NaN</td>\n",
              "      <td>Passing the exam with a good quality opens the...</td>\n",
              "      <td>1.0</td>\n",
              "      <td>0f3f3a1c8053bf6128f7a3b730e9162c</td>\n",
              "      <td>1.0</td>\n",
              "      <td>4.39</td>\n",
              "      <td>...</td>\n",
              "      <td>0.31</td>\n",
              "      <td>33608621.0</td>\n",
              "      <td>2022-05-27T08:40:05.000Z</td>\n",
              "      <td>NaN</td>\n",
              "      <td>1.699066e+09</td>\n",
              "      <td>True</td>\n",
              "      <td>US</td>\n",
              "      <td>EN</td>\n",
              "      <td>2000-07-07T00:00:00.000Z</td>\n",
              "      <td>2022-10-11T00:00:00.000Z</td>\n",
              "    </tr>\n",
              "    <tr>\n",
              "      <th>4</th>\n",
              "      <td>4</td>\n",
              "      <td>Is the image a good picture of the zoo animal?</td>\n",
              "      <td>84339</td>\n",
              "      <td>1.0</td>\n",
              "      <td>EN</td>\n",
              "      <td>Please judge if the image is showing a correct...</td>\n",
              "      <td>1.0</td>\n",
              "      <td>e134d662550bd2d2176b4f3e515f6e23</td>\n",
              "      <td>0.0</td>\n",
              "      <td>4.57</td>\n",
              "      <td>...</td>\n",
              "      <td>NaN</td>\n",
              "      <td>32387125.0</td>\n",
              "      <td>2022-03-15T21:21:42.000Z</td>\n",
              "      <td>NaN</td>\n",
              "      <td>1.699066e+09</td>\n",
              "      <td>True</td>\n",
              "      <td>US</td>\n",
              "      <td>EN</td>\n",
              "      <td>2000-07-07T00:00:00.000Z</td>\n",
              "      <td>2022-10-11T00:00:00.000Z</td>\n",
              "    </tr>\n",
              "  </tbody>\n",
              "</table>\n",
              "<p>5 rows × 23 columns</p>\n",
              "</div>\n",
              "      <button class=\"colab-df-convert\" onclick=\"convertToInteractive('df-4929210f-0b2d-493e-bdd1-29aa5afb05db')\"\n",
              "              title=\"Convert this dataframe to an interactive table.\"\n",
              "              style=\"display:none;\">\n",
              "        \n",
              "  <svg xmlns=\"http://www.w3.org/2000/svg\" height=\"24px\"viewBox=\"0 0 24 24\"\n",
              "       width=\"24px\">\n",
              "    <path d=\"M0 0h24v24H0V0z\" fill=\"none\"/>\n",
              "    <path d=\"M18.56 5.44l.94 2.06.94-2.06 2.06-.94-2.06-.94-.94-2.06-.94 2.06-2.06.94zm-11 1L8.5 8.5l.94-2.06 2.06-.94-2.06-.94L8.5 2.5l-.94 2.06-2.06.94zm10 10l.94 2.06.94-2.06 2.06-.94-2.06-.94-.94-2.06-.94 2.06-2.06.94z\"/><path d=\"M17.41 7.96l-1.37-1.37c-.4-.4-.92-.59-1.43-.59-.52 0-1.04.2-1.43.59L10.3 9.45l-7.72 7.72c-.78.78-.78 2.05 0 2.83L4 21.41c.39.39.9.59 1.41.59.51 0 1.02-.2 1.41-.59l7.78-7.78 2.81-2.81c.8-.78.8-2.07 0-2.86zM5.41 20L4 18.59l7.72-7.72 1.47 1.35L5.41 20z\"/>\n",
              "  </svg>\n",
              "      </button>\n",
              "      \n",
              "  <style>\n",
              "    .colab-df-container {\n",
              "      display:flex;\n",
              "      flex-wrap:wrap;\n",
              "      gap: 12px;\n",
              "    }\n",
              "\n",
              "    .colab-df-convert {\n",
              "      background-color: #E8F0FE;\n",
              "      border: none;\n",
              "      border-radius: 50%;\n",
              "      cursor: pointer;\n",
              "      display: none;\n",
              "      fill: #1967D2;\n",
              "      height: 32px;\n",
              "      padding: 0 0 0 0;\n",
              "      width: 32px;\n",
              "    }\n",
              "\n",
              "    .colab-df-convert:hover {\n",
              "      background-color: #E2EBFA;\n",
              "      box-shadow: 0px 1px 2px rgba(60, 64, 67, 0.3), 0px 1px 3px 1px rgba(60, 64, 67, 0.15);\n",
              "      fill: #174EA6;\n",
              "    }\n",
              "\n",
              "    [theme=dark] .colab-df-convert {\n",
              "      background-color: #3B4455;\n",
              "      fill: #D2E3FC;\n",
              "    }\n",
              "\n",
              "    [theme=dark] .colab-df-convert:hover {\n",
              "      background-color: #434B5C;\n",
              "      box-shadow: 0px 1px 3px 1px rgba(0, 0, 0, 0.15);\n",
              "      filter: drop-shadow(0px 1px 2px rgba(0, 0, 0, 0.3));\n",
              "      fill: #FFFFFF;\n",
              "    }\n",
              "  </style>\n",
              "\n",
              "      <script>\n",
              "        const buttonEl =\n",
              "          document.querySelector('#df-4929210f-0b2d-493e-bdd1-29aa5afb05db button.colab-df-convert');\n",
              "        buttonEl.style.display =\n",
              "          google.colab.kernel.accessAllowed ? 'block' : 'none';\n",
              "\n",
              "        async function convertToInteractive(key) {\n",
              "          const element = document.querySelector('#df-4929210f-0b2d-493e-bdd1-29aa5afb05db');\n",
              "          const dataTable =\n",
              "            await google.colab.kernel.invokeFunction('convertToInteractive',\n",
              "                                                     [key], {});\n",
              "          if (!dataTable) return;\n",
              "\n",
              "          const docLinkHtml = 'Like what you see? Visit the ' +\n",
              "            '<a target=\"_blank\" href=https://colab.research.google.com/notebooks/data_table.ipynb>data table notebook</a>'\n",
              "            + ' to learn more about interactive tables.';\n",
              "          element.innerHTML = '';\n",
              "          dataTable['output_type'] = 'display_data';\n",
              "          await google.colab.output.renderOutput(dataTable, element);\n",
              "          const docLink = document.createElement('div');\n",
              "          docLink.innerHTML = docLinkHtml;\n",
              "          element.appendChild(docLink);\n",
              "        }\n",
              "      </script>\n",
              "    </div>\n",
              "  </div>\n",
              "  "
            ]
          },
          "metadata": {},
          "execution_count": 5
        }
      ]
    },
    {
      "cell_type": "code",
      "source": [
        "log_data = pd.read_csv(io.BytesIO(uploaded['log_data.csv']))"
      ],
      "metadata": {
        "id": "xDtAuntYP_0i"
      },
      "execution_count": null,
      "outputs": []
    },
    {
      "cell_type": "code",
      "source": [
        "log_data.head()"
      ],
      "metadata": {
        "colab": {
          "base_uri": "https://localhost:8080/",
          "height": 206
        },
        "id": "Jir0OOVsRGE3",
        "outputId": "15aceb4b-f714-4f37-fa6b-595bab20c211"
      },
      "execution_count": null,
      "outputs": [
        {
          "output_type": "execute_result",
          "data": {
            "text/plain": [
              "   Unnamed: 0  id     user_id       event      timestamp  \\\n",
              "0           0   1           0   TABCLOSED  1668120340446   \n",
              "1           1   2           0  TABUPDATED  1667956551791   \n",
              "2           2   3           0  TABUPDATED  1667956551791   \n",
              "3           3   4  1709755371  TABUPDATED  1668628323406   \n",
              "4           4   5  1709755371  TABUPDATED  1668628325893   \n",
              "\n",
              "                                                 url     tab_id  scroll_count  \\\n",
              "0                                                NaN  837345710           0.0   \n",
              "1  https://www.sammeechward.com/deploy-node-app-o...  837344770           NaN   \n",
              "2                                         NON-TOLOKA  837344770           NaN   \n",
              "3                                         NON-TOLOKA  837345509           NaN   \n",
              "4                                         NON-TOLOKA  837347829           NaN   \n",
              "\n",
              "   blur_count  focus_count  click_count  keypress_count  \n",
              "0         0.0          0.0          0.0             0.0  \n",
              "1         NaN          NaN          NaN             NaN  \n",
              "2         NaN          NaN          NaN             NaN  \n",
              "3         NaN          NaN          NaN             NaN  \n",
              "4         NaN          NaN          NaN             NaN  "
            ],
            "text/html": [
              "\n",
              "  <div id=\"df-6273324f-c988-4a2c-8abc-0702b73922b8\">\n",
              "    <div class=\"colab-df-container\">\n",
              "      <div>\n",
              "<style scoped>\n",
              "    .dataframe tbody tr th:only-of-type {\n",
              "        vertical-align: middle;\n",
              "    }\n",
              "\n",
              "    .dataframe tbody tr th {\n",
              "        vertical-align: top;\n",
              "    }\n",
              "\n",
              "    .dataframe thead th {\n",
              "        text-align: right;\n",
              "    }\n",
              "</style>\n",
              "<table border=\"1\" class=\"dataframe\">\n",
              "  <thead>\n",
              "    <tr style=\"text-align: right;\">\n",
              "      <th></th>\n",
              "      <th>Unnamed: 0</th>\n",
              "      <th>id</th>\n",
              "      <th>user_id</th>\n",
              "      <th>event</th>\n",
              "      <th>timestamp</th>\n",
              "      <th>url</th>\n",
              "      <th>tab_id</th>\n",
              "      <th>scroll_count</th>\n",
              "      <th>blur_count</th>\n",
              "      <th>focus_count</th>\n",
              "      <th>click_count</th>\n",
              "      <th>keypress_count</th>\n",
              "    </tr>\n",
              "  </thead>\n",
              "  <tbody>\n",
              "    <tr>\n",
              "      <th>0</th>\n",
              "      <td>0</td>\n",
              "      <td>1</td>\n",
              "      <td>0</td>\n",
              "      <td>TABCLOSED</td>\n",
              "      <td>1668120340446</td>\n",
              "      <td>NaN</td>\n",
              "      <td>837345710</td>\n",
              "      <td>0.0</td>\n",
              "      <td>0.0</td>\n",
              "      <td>0.0</td>\n",
              "      <td>0.0</td>\n",
              "      <td>0.0</td>\n",
              "    </tr>\n",
              "    <tr>\n",
              "      <th>1</th>\n",
              "      <td>1</td>\n",
              "      <td>2</td>\n",
              "      <td>0</td>\n",
              "      <td>TABUPDATED</td>\n",
              "      <td>1667956551791</td>\n",
              "      <td>https://www.sammeechward.com/deploy-node-app-o...</td>\n",
              "      <td>837344770</td>\n",
              "      <td>NaN</td>\n",
              "      <td>NaN</td>\n",
              "      <td>NaN</td>\n",
              "      <td>NaN</td>\n",
              "      <td>NaN</td>\n",
              "    </tr>\n",
              "    <tr>\n",
              "      <th>2</th>\n",
              "      <td>2</td>\n",
              "      <td>3</td>\n",
              "      <td>0</td>\n",
              "      <td>TABUPDATED</td>\n",
              "      <td>1667956551791</td>\n",
              "      <td>NON-TOLOKA</td>\n",
              "      <td>837344770</td>\n",
              "      <td>NaN</td>\n",
              "      <td>NaN</td>\n",
              "      <td>NaN</td>\n",
              "      <td>NaN</td>\n",
              "      <td>NaN</td>\n",
              "    </tr>\n",
              "    <tr>\n",
              "      <th>3</th>\n",
              "      <td>3</td>\n",
              "      <td>4</td>\n",
              "      <td>1709755371</td>\n",
              "      <td>TABUPDATED</td>\n",
              "      <td>1668628323406</td>\n",
              "      <td>NON-TOLOKA</td>\n",
              "      <td>837345509</td>\n",
              "      <td>NaN</td>\n",
              "      <td>NaN</td>\n",
              "      <td>NaN</td>\n",
              "      <td>NaN</td>\n",
              "      <td>NaN</td>\n",
              "    </tr>\n",
              "    <tr>\n",
              "      <th>4</th>\n",
              "      <td>4</td>\n",
              "      <td>5</td>\n",
              "      <td>1709755371</td>\n",
              "      <td>TABUPDATED</td>\n",
              "      <td>1668628325893</td>\n",
              "      <td>NON-TOLOKA</td>\n",
              "      <td>837347829</td>\n",
              "      <td>NaN</td>\n",
              "      <td>NaN</td>\n",
              "      <td>NaN</td>\n",
              "      <td>NaN</td>\n",
              "      <td>NaN</td>\n",
              "    </tr>\n",
              "  </tbody>\n",
              "</table>\n",
              "</div>\n",
              "      <button class=\"colab-df-convert\" onclick=\"convertToInteractive('df-6273324f-c988-4a2c-8abc-0702b73922b8')\"\n",
              "              title=\"Convert this dataframe to an interactive table.\"\n",
              "              style=\"display:none;\">\n",
              "        \n",
              "  <svg xmlns=\"http://www.w3.org/2000/svg\" height=\"24px\"viewBox=\"0 0 24 24\"\n",
              "       width=\"24px\">\n",
              "    <path d=\"M0 0h24v24H0V0z\" fill=\"none\"/>\n",
              "    <path d=\"M18.56 5.44l.94 2.06.94-2.06 2.06-.94-2.06-.94-.94-2.06-.94 2.06-2.06.94zm-11 1L8.5 8.5l.94-2.06 2.06-.94-2.06-.94L8.5 2.5l-.94 2.06-2.06.94zm10 10l.94 2.06.94-2.06 2.06-.94-2.06-.94-.94-2.06-.94 2.06-2.06.94z\"/><path d=\"M17.41 7.96l-1.37-1.37c-.4-.4-.92-.59-1.43-.59-.52 0-1.04.2-1.43.59L10.3 9.45l-7.72 7.72c-.78.78-.78 2.05 0 2.83L4 21.41c.39.39.9.59 1.41.59.51 0 1.02-.2 1.41-.59l7.78-7.78 2.81-2.81c.8-.78.8-2.07 0-2.86zM5.41 20L4 18.59l7.72-7.72 1.47 1.35L5.41 20z\"/>\n",
              "  </svg>\n",
              "      </button>\n",
              "      \n",
              "  <style>\n",
              "    .colab-df-container {\n",
              "      display:flex;\n",
              "      flex-wrap:wrap;\n",
              "      gap: 12px;\n",
              "    }\n",
              "\n",
              "    .colab-df-convert {\n",
              "      background-color: #E8F0FE;\n",
              "      border: none;\n",
              "      border-radius: 50%;\n",
              "      cursor: pointer;\n",
              "      display: none;\n",
              "      fill: #1967D2;\n",
              "      height: 32px;\n",
              "      padding: 0 0 0 0;\n",
              "      width: 32px;\n",
              "    }\n",
              "\n",
              "    .colab-df-convert:hover {\n",
              "      background-color: #E2EBFA;\n",
              "      box-shadow: 0px 1px 2px rgba(60, 64, 67, 0.3), 0px 1px 3px 1px rgba(60, 64, 67, 0.15);\n",
              "      fill: #174EA6;\n",
              "    }\n",
              "\n",
              "    [theme=dark] .colab-df-convert {\n",
              "      background-color: #3B4455;\n",
              "      fill: #D2E3FC;\n",
              "    }\n",
              "\n",
              "    [theme=dark] .colab-df-convert:hover {\n",
              "      background-color: #434B5C;\n",
              "      box-shadow: 0px 1px 3px 1px rgba(0, 0, 0, 0.15);\n",
              "      filter: drop-shadow(0px 1px 2px rgba(0, 0, 0, 0.3));\n",
              "      fill: #FFFFFF;\n",
              "    }\n",
              "  </style>\n",
              "\n",
              "      <script>\n",
              "        const buttonEl =\n",
              "          document.querySelector('#df-6273324f-c988-4a2c-8abc-0702b73922b8 button.colab-df-convert');\n",
              "        buttonEl.style.display =\n",
              "          google.colab.kernel.accessAllowed ? 'block' : 'none';\n",
              "\n",
              "        async function convertToInteractive(key) {\n",
              "          const element = document.querySelector('#df-6273324f-c988-4a2c-8abc-0702b73922b8');\n",
              "          const dataTable =\n",
              "            await google.colab.kernel.invokeFunction('convertToInteractive',\n",
              "                                                     [key], {});\n",
              "          if (!dataTable) return;\n",
              "\n",
              "          const docLinkHtml = 'Like what you see? Visit the ' +\n",
              "            '<a target=\"_blank\" href=https://colab.research.google.com/notebooks/data_table.ipynb>data table notebook</a>'\n",
              "            + ' to learn more about interactive tables.';\n",
              "          element.innerHTML = '';\n",
              "          dataTable['output_type'] = 'display_data';\n",
              "          await google.colab.output.renderOutput(dataTable, element);\n",
              "          const docLink = document.createElement('div');\n",
              "          docLink.innerHTML = docLinkHtml;\n",
              "          element.appendChild(docLink);\n",
              "        }\n",
              "      </script>\n",
              "    </div>\n",
              "  </div>\n",
              "  "
            ]
          },
          "metadata": {},
          "execution_count": 65
        }
      ]
    },
    {
      "cell_type": "markdown",
      "source": [
        "## Finding NaN values"
      ],
      "metadata": {
        "id": "ShfKELhRRmwO"
      }
    },
    {
      "cell_type": "code",
      "source": [
        "df.shape"
      ],
      "metadata": {
        "colab": {
          "base_uri": "https://localhost:8080/"
        },
        "id": "D8DkOdElSaTV",
        "outputId": "6a9c5564-aa29-468a-a894-a5ccffa103a8"
      },
      "execution_count": 6,
      "outputs": [
        {
          "output_type": "execute_result",
          "data": {
            "text/plain": [
              "(85, 23)"
            ]
          },
          "metadata": {},
          "execution_count": 6
        }
      ]
    },
    {
      "cell_type": "code",
      "source": [
        "df.isnull().sum()"
      ],
      "metadata": {
        "colab": {
          "base_uri": "https://localhost:8080/"
        },
        "id": "wkTwICT7RpG5",
        "outputId": "e9f93727-6ccf-4275-99f2-6c7adf262889"
      },
      "execution_count": 7,
      "outputs": [
        {
          "output_type": "execute_result",
          "data": {
            "text/plain": [
              "Unnamed: 0                 0\n",
              "title                     12\n",
              "project_id                 0\n",
              "adult_content             12\n",
              "lang                      58\n",
              "description               15\n",
              "instructions_flag         12\n",
              "requester_id              12\n",
              "requester_trusted_flag    12\n",
              "project_stat              24\n",
              "avg_money_hourly          19\n",
              "moneyMed                  36\n",
              "moneyTop10                36\n",
              "moneyMax3                 58\n",
              "pool_id                   12\n",
              "pool_started_at           12\n",
              "acceptance_period         72\n",
              "user_id                   58\n",
              "task_attempted_flag        0\n",
              "country                   58\n",
              "user_language             58\n",
              "birth_day                 58\n",
              "joined                    58\n",
              "dtype: int64"
            ]
          },
          "metadata": {},
          "execution_count": 7
        }
      ]
    },
    {
      "cell_type": "markdown",
      "source": [
        "## Imputing the missing values"
      ],
      "metadata": {
        "id": "VgyQ33mDfPzG"
      }
    },
    {
      "cell_type": "markdown",
      "source": [
        "* user_id: too many NaN values.\n",
        "* Occuring from task_data since task_data doesn't have user_id column and to get that we are merging it with task_receipt \n",
        "* However; not all projects are present in the receipt so it is creating a lot of NaN values."
      ],
      "metadata": {
        "id": "xjKLBtZMfUeN"
      }
    },
    {
      "cell_type": "markdown",
      "source": [
        "Imputing all the user data with mode"
      ],
      "metadata": {
        "id": "cMryvEzDf2ha"
      }
    },
    {
      "cell_type": "code",
      "source": [
        "df['user_id'] = df['user_id'].fillna(df['user_id'].mode()[0])"
      ],
      "metadata": {
        "id": "lGv5576dgCxF"
      },
      "execution_count": 8,
      "outputs": []
    },
    {
      "cell_type": "code",
      "source": [
        "df['country'] = df['country'].fillna(df['country'].mode()[0])"
      ],
      "metadata": {
        "id": "_hCRgbXCglGL"
      },
      "execution_count": 9,
      "outputs": []
    },
    {
      "cell_type": "code",
      "source": [
        "df['user_language'] = df['user_language'].fillna(df['user_language'].mode()[0])"
      ],
      "metadata": {
        "id": "XHYl1BlVg29p"
      },
      "execution_count": 10,
      "outputs": []
    },
    {
      "cell_type": "code",
      "source": [
        "df['birth_day'] = df['birth_day'].fillna(df['birth_day'].mode()[0])"
      ],
      "metadata": {
        "id": "4LiJ81_XhBh1"
      },
      "execution_count": 11,
      "outputs": []
    },
    {
      "cell_type": "code",
      "source": [
        "df['joined'] = df['joined'].fillna(df['joined'].mode()[0])"
      ],
      "metadata": {
        "id": "q8YIcgffhLmZ"
      },
      "execution_count": 12,
      "outputs": []
    },
    {
      "cell_type": "code",
      "source": [
        "df['lang'] = df['lang'].fillna(df['lang'].mode()[0])"
      ],
      "metadata": {
        "id": "nwpGtjCb1e8a"
      },
      "execution_count": 13,
      "outputs": []
    },
    {
      "cell_type": "markdown",
      "source": [
        "**title, adult_content, instructions_flag, requester_id, requester_trusted_flag, pool_id, pool_started_at** : \n",
        "* Nan values in these columns are all the tasks that have their receipts generated but they're not present on the 'Tasks' tab anymore, therefore we couldn't fetch the above information for these tasks"
      ],
      "metadata": {
        "id": "ch50T38jnk7W"
      }
    },
    {
      "cell_type": "markdown",
      "source": [
        "For now. it's better to remove these 12 rows until we find a way to fetch task data for the tasks that are present in the task receipts but aren't present in task tab anymore."
      ],
      "metadata": {
        "id": "zqXKqGbd0c78"
      }
    },
    {
      "cell_type": "code",
      "source": [
        "df = df[df['title'].notna()]"
      ],
      "metadata": {
        "id": "xs4-Zaae01l_"
      },
      "execution_count": 14,
      "outputs": []
    },
    {
      "cell_type": "markdown",
      "source": [
        "**avg_money_hourly, moneyMed, moneyTop10, moneyMax3**:\n",
        "* Nan and other forms of missing values in these columns simply means that the requester hasn't provided any payment options. So we will replace them with 0. "
      ],
      "metadata": {
        "id": "BmBpiNxqpgON"
      }
    },
    {
      "cell_type": "code",
      "source": [
        "df.avg_money_hourly.unique()"
      ],
      "metadata": {
        "colab": {
          "base_uri": "https://localhost:8080/"
        },
        "id": "HRwsEWUPpQzA",
        "outputId": "5a2420c6-280e-4b3d-ebe4-e6b95741e869"
      },
      "execution_count": 15,
      "outputs": [
        {
          "output_type": "execute_result",
          "data": {
            "text/plain": [
              "array([0.       , 0.371134 , 0.62531  , 0.108108 , 0.185567 ,       nan,\n",
              "       0.28125  , 0.54     , 1.08897  , 0.8      , 0.791209 , 0.529412 ,\n",
              "       2.0339   , 0.821918 , 0.657534 , 0.268657 , 0.576923 , 2.08092  ,\n",
              "       0.514286 , 0.972973 , 0.633803 , 0.810811 , 0.475248 , 0.39779  ,\n",
              "       0.743363 , 0.382979 , 0.444444 , 1.8      , 0.235294 , 0.0957445,\n",
              "       0.452424 , 0.382166 , 0.96     , 0.507042 , 1.13089  ])"
            ]
          },
          "metadata": {},
          "execution_count": 15
        }
      ]
    },
    {
      "cell_type": "code",
      "source": [
        "df.moneyMed.unique()"
      ],
      "metadata": {
        "colab": {
          "base_uri": "https://localhost:8080/"
        },
        "id": "1ymI1FyXtZ_p",
        "outputId": "ae9ebe04-1a94-4fd7-a851-2565cfc80fa4"
      },
      "execution_count": 16,
      "outputs": [
        {
          "output_type": "execute_result",
          "data": {
            "text/plain": [
              "array([ nan, 0.01, 0.  , 0.04, 0.02, 0.08, 0.1 , 0.03, 0.07, 0.35, 0.05,\n",
              "       0.06, 0.18])"
            ]
          },
          "metadata": {},
          "execution_count": 16
        }
      ]
    },
    {
      "cell_type": "code",
      "source": [
        "df.moneyTop10.unique()"
      ],
      "metadata": {
        "colab": {
          "base_uri": "https://localhost:8080/"
        },
        "id": "eEMviLjPtd_Q",
        "outputId": "4b8f8310-da7d-4d1f-983c-86bf0717d15e"
      },
      "execution_count": 17,
      "outputs": [
        {
          "output_type": "execute_result",
          "data": {
            "text/plain": [
              "array([ nan, 0.04, 0.18, 0.69, 0.73, 0.01, 0.03, 0.36, 0.16, 0.3 , 0.  ,\n",
              "       0.08, 0.1 , 0.21, 0.07, 0.5 , 0.12, 0.38, 0.96, 0.05, 0.09, 0.83,\n",
              "       5.06, 0.06, 0.2 ])"
            ]
          },
          "metadata": {},
          "execution_count": 17
        }
      ]
    },
    {
      "cell_type": "code",
      "source": [
        "df.moneyMax3.unique()"
      ],
      "metadata": {
        "colab": {
          "base_uri": "https://localhost:8080/"
        },
        "id": "D7Kn160Otn1Y",
        "outputId": "8ac526e6-8833-425a-a719-0e65e3c03b8a"
      },
      "execution_count": 18,
      "outputs": [
        {
          "output_type": "execute_result",
          "data": {
            "text/plain": [
              "array([      nan, 3.100e-01, 2.910e+00, 2.003e+01, 1.004e+01, 1.000e-02,\n",
              "       1.300e-01, 2.100e+00, 1.260e+00, 1.900e+00, 1.070e+00, 1.100e+00,\n",
              "       8.600e-01, 2.820e+00, 3.170e+00, 3.700e-01, 1.800e+00, 1.228e+01,\n",
              "       4.800e-01])"
            ]
          },
          "metadata": {},
          "execution_count": 18
        }
      ]
    },
    {
      "cell_type": "code",
      "source": [
        "df['avg_money_hourly'] = df['avg_money_hourly'].fillna(0)\n",
        "df['moneyMed'] = df['moneyMed'].fillna(0)\n",
        "df['moneyMax3'] = df['moneyMax3'].fillna(0)\n",
        "df['moneyTop10'] = df['moneyTop10'].fillna(0)"
      ],
      "metadata": {
        "id": "7CwoSHyXtti_"
      },
      "execution_count": 19,
      "outputs": []
    },
    {
      "cell_type": "markdown",
      "source": [
        "**acceptance_period**: \n",
        "* too many missing values(72), it makes more sense to drop the entire column than trying to impute these values"
      ],
      "metadata": {
        "id": "Uc9Y4UONxJu2"
      }
    },
    {
      "cell_type": "code",
      "source": [
        "df = df.drop('acceptance_period', axis = 1)"
      ],
      "metadata": {
        "id": "u0IKKdmYxWsu"
      },
      "execution_count": 20,
      "outputs": []
    },
    {
      "cell_type": "markdown",
      "source": [
        "**project_stat**"
      ],
      "metadata": {
        "id": "kOPxY39Jy7y8"
      }
    },
    {
      "cell_type": "code",
      "source": [
        "df.project_stat.unique()"
      ],
      "metadata": {
        "colab": {
          "base_uri": "https://localhost:8080/"
        },
        "id": "mbx0m2KPy903",
        "outputId": "15046910-dcd6-4453-c8dd-10136b970efc"
      },
      "execution_count": 21,
      "outputs": [
        {
          "output_type": "execute_result",
          "data": {
            "text/plain": [
              "array([4.75, 4.5 , 4.39, 4.57, 4.83, 4.33, 4.21, 4.67, 1.6 , 4.68, 4.  ,\n",
              "       4.3 , 4.77,  nan, 4.72, 4.81, 4.45, 4.47, 4.69, 4.91, 4.82, 4.03,\n",
              "       4.65, 4.66, 4.6 , 4.64, 4.48, 4.71, 4.93, 4.97, 4.26, 4.58, 4.95,\n",
              "       3.11, 4.7 , 4.86, 4.61, 1.45])"
            ]
          },
          "metadata": {},
          "execution_count": 21
        }
      ]
    },
    {
      "cell_type": "markdown",
      "source": [
        "project_stat is basically the grade assigned to that project. I am not sure what exactly is the criteria for that grade assignment. However, for now it makes sense to just replace unassigned grades with 0."
      ],
      "metadata": {
        "id": "Es7CC_HTzcal"
      }
    },
    {
      "cell_type": "code",
      "source": [
        "df['project_stat'] = df['project_stat'].fillna(0)"
      ],
      "metadata": {
        "id": "vu3ApbIrz3-I"
      },
      "execution_count": 22,
      "outputs": []
    },
    {
      "cell_type": "code",
      "source": [
        "df.head()"
      ],
      "metadata": {
        "colab": {
          "base_uri": "https://localhost:8080/",
          "height": 595
        },
        "id": "uzfmDtp90EtW",
        "outputId": "80b06734-7e8b-4171-b4a2-59b767616bfc"
      },
      "execution_count": 23,
      "outputs": [
        {
          "output_type": "execute_result",
          "data": {
            "text/plain": [
              "   Unnamed: 0                                           title  project_id  \\\n",
              "0           0                   [Toloka] English Grammar Test      105273   \n",
              "1           1                   [Toloka] English Grammar Test      105273   \n",
              "2           2       [Toloka] Prueba de comprensión de español       62518   \n",
              "3           3                    Page relevance (new version)       81714   \n",
              "4           4  Is the image a good picture of the zoo animal?       84339   \n",
              "\n",
              "   adult_content lang                                        description  \\\n",
              "0            0.0   EN  Take the test and get more paid tasks.\\nAfter ...   \n",
              "1            0.0   EN  Take the test and get more paid tasks.\\nAfter ...   \n",
              "2            0.0   EN  Haz la prueba y recibe más tareas pagadas.\\nSi...   \n",
              "3            0.0   EN  Passing the exam with a good quality opens the...   \n",
              "4            1.0   EN  Please judge if the image is showing a correct...   \n",
              "\n",
              "   instructions_flag                      requester_id  \\\n",
              "0                1.0  71daea4cffae4488067aebfb6583914a   \n",
              "1                1.0  71daea4cffae4488067aebfb6583914a   \n",
              "2                0.0  71daea4cffae4488067aebfb6583914a   \n",
              "3                1.0  0f3f3a1c8053bf6128f7a3b730e9162c   \n",
              "4                1.0  e134d662550bd2d2176b4f3e515f6e23   \n",
              "\n",
              "   requester_trusted_flag  project_stat  ...  moneyTop10  moneyMax3  \\\n",
              "0                     0.0          4.75  ...        0.00       0.00   \n",
              "1                     0.0          4.75  ...        0.00       0.00   \n",
              "2                     0.0          4.50  ...        0.00       0.00   \n",
              "3                     1.0          4.39  ...        0.04       0.31   \n",
              "4                     0.0          4.57  ...        0.00       0.00   \n",
              "\n",
              "      pool_id           pool_started_at       user_id task_attempted_flag  \\\n",
              "0  36185755.0   2022-11-03T19:07:12.911  1.699066e+09                True   \n",
              "1  36185755.0  2022-11-03T19:07:13.000Z  1.699066e+09                True   \n",
              "2  35994576.0  2022-10-22T06:38:00.000Z  1.699066e+09                True   \n",
              "3  33608621.0  2022-05-27T08:40:05.000Z  1.699066e+09                True   \n",
              "4  32387125.0  2022-03-15T21:21:42.000Z  1.699066e+09                True   \n",
              "\n",
              "   country  user_language                 birth_day                    joined  \n",
              "0       US             EN  2000-07-07T00:00:00.000Z  2022-10-11T00:00:00.000Z  \n",
              "1       US             EN  2000-07-07T00:00:00.000Z  2022-10-11T00:00:00.000Z  \n",
              "2       US             EN  2000-07-07T00:00:00.000Z  2022-10-11T00:00:00.000Z  \n",
              "3       US             EN  2000-07-07T00:00:00.000Z  2022-10-11T00:00:00.000Z  \n",
              "4       US             EN  2000-07-07T00:00:00.000Z  2022-10-11T00:00:00.000Z  \n",
              "\n",
              "[5 rows x 22 columns]"
            ],
            "text/html": [
              "\n",
              "  <div id=\"df-cf540823-49aa-419d-8664-a4fe0902b975\">\n",
              "    <div class=\"colab-df-container\">\n",
              "      <div>\n",
              "<style scoped>\n",
              "    .dataframe tbody tr th:only-of-type {\n",
              "        vertical-align: middle;\n",
              "    }\n",
              "\n",
              "    .dataframe tbody tr th {\n",
              "        vertical-align: top;\n",
              "    }\n",
              "\n",
              "    .dataframe thead th {\n",
              "        text-align: right;\n",
              "    }\n",
              "</style>\n",
              "<table border=\"1\" class=\"dataframe\">\n",
              "  <thead>\n",
              "    <tr style=\"text-align: right;\">\n",
              "      <th></th>\n",
              "      <th>Unnamed: 0</th>\n",
              "      <th>title</th>\n",
              "      <th>project_id</th>\n",
              "      <th>adult_content</th>\n",
              "      <th>lang</th>\n",
              "      <th>description</th>\n",
              "      <th>instructions_flag</th>\n",
              "      <th>requester_id</th>\n",
              "      <th>requester_trusted_flag</th>\n",
              "      <th>project_stat</th>\n",
              "      <th>...</th>\n",
              "      <th>moneyTop10</th>\n",
              "      <th>moneyMax3</th>\n",
              "      <th>pool_id</th>\n",
              "      <th>pool_started_at</th>\n",
              "      <th>user_id</th>\n",
              "      <th>task_attempted_flag</th>\n",
              "      <th>country</th>\n",
              "      <th>user_language</th>\n",
              "      <th>birth_day</th>\n",
              "      <th>joined</th>\n",
              "    </tr>\n",
              "  </thead>\n",
              "  <tbody>\n",
              "    <tr>\n",
              "      <th>0</th>\n",
              "      <td>0</td>\n",
              "      <td>[Toloka] English Grammar Test</td>\n",
              "      <td>105273</td>\n",
              "      <td>0.0</td>\n",
              "      <td>EN</td>\n",
              "      <td>Take the test and get more paid tasks.\\nAfter ...</td>\n",
              "      <td>1.0</td>\n",
              "      <td>71daea4cffae4488067aebfb6583914a</td>\n",
              "      <td>0.0</td>\n",
              "      <td>4.75</td>\n",
              "      <td>...</td>\n",
              "      <td>0.00</td>\n",
              "      <td>0.00</td>\n",
              "      <td>36185755.0</td>\n",
              "      <td>2022-11-03T19:07:12.911</td>\n",
              "      <td>1.699066e+09</td>\n",
              "      <td>True</td>\n",
              "      <td>US</td>\n",
              "      <td>EN</td>\n",
              "      <td>2000-07-07T00:00:00.000Z</td>\n",
              "      <td>2022-10-11T00:00:00.000Z</td>\n",
              "    </tr>\n",
              "    <tr>\n",
              "      <th>1</th>\n",
              "      <td>1</td>\n",
              "      <td>[Toloka] English Grammar Test</td>\n",
              "      <td>105273</td>\n",
              "      <td>0.0</td>\n",
              "      <td>EN</td>\n",
              "      <td>Take the test and get more paid tasks.\\nAfter ...</td>\n",
              "      <td>1.0</td>\n",
              "      <td>71daea4cffae4488067aebfb6583914a</td>\n",
              "      <td>0.0</td>\n",
              "      <td>4.75</td>\n",
              "      <td>...</td>\n",
              "      <td>0.00</td>\n",
              "      <td>0.00</td>\n",
              "      <td>36185755.0</td>\n",
              "      <td>2022-11-03T19:07:13.000Z</td>\n",
              "      <td>1.699066e+09</td>\n",
              "      <td>True</td>\n",
              "      <td>US</td>\n",
              "      <td>EN</td>\n",
              "      <td>2000-07-07T00:00:00.000Z</td>\n",
              "      <td>2022-10-11T00:00:00.000Z</td>\n",
              "    </tr>\n",
              "    <tr>\n",
              "      <th>2</th>\n",
              "      <td>2</td>\n",
              "      <td>[Toloka] Prueba de comprensión de español</td>\n",
              "      <td>62518</td>\n",
              "      <td>0.0</td>\n",
              "      <td>EN</td>\n",
              "      <td>Haz la prueba y recibe más tareas pagadas.\\nSi...</td>\n",
              "      <td>0.0</td>\n",
              "      <td>71daea4cffae4488067aebfb6583914a</td>\n",
              "      <td>0.0</td>\n",
              "      <td>4.50</td>\n",
              "      <td>...</td>\n",
              "      <td>0.00</td>\n",
              "      <td>0.00</td>\n",
              "      <td>35994576.0</td>\n",
              "      <td>2022-10-22T06:38:00.000Z</td>\n",
              "      <td>1.699066e+09</td>\n",
              "      <td>True</td>\n",
              "      <td>US</td>\n",
              "      <td>EN</td>\n",
              "      <td>2000-07-07T00:00:00.000Z</td>\n",
              "      <td>2022-10-11T00:00:00.000Z</td>\n",
              "    </tr>\n",
              "    <tr>\n",
              "      <th>3</th>\n",
              "      <td>3</td>\n",
              "      <td>Page relevance (new version)</td>\n",
              "      <td>81714</td>\n",
              "      <td>0.0</td>\n",
              "      <td>EN</td>\n",
              "      <td>Passing the exam with a good quality opens the...</td>\n",
              "      <td>1.0</td>\n",
              "      <td>0f3f3a1c8053bf6128f7a3b730e9162c</td>\n",
              "      <td>1.0</td>\n",
              "      <td>4.39</td>\n",
              "      <td>...</td>\n",
              "      <td>0.04</td>\n",
              "      <td>0.31</td>\n",
              "      <td>33608621.0</td>\n",
              "      <td>2022-05-27T08:40:05.000Z</td>\n",
              "      <td>1.699066e+09</td>\n",
              "      <td>True</td>\n",
              "      <td>US</td>\n",
              "      <td>EN</td>\n",
              "      <td>2000-07-07T00:00:00.000Z</td>\n",
              "      <td>2022-10-11T00:00:00.000Z</td>\n",
              "    </tr>\n",
              "    <tr>\n",
              "      <th>4</th>\n",
              "      <td>4</td>\n",
              "      <td>Is the image a good picture of the zoo animal?</td>\n",
              "      <td>84339</td>\n",
              "      <td>1.0</td>\n",
              "      <td>EN</td>\n",
              "      <td>Please judge if the image is showing a correct...</td>\n",
              "      <td>1.0</td>\n",
              "      <td>e134d662550bd2d2176b4f3e515f6e23</td>\n",
              "      <td>0.0</td>\n",
              "      <td>4.57</td>\n",
              "      <td>...</td>\n",
              "      <td>0.00</td>\n",
              "      <td>0.00</td>\n",
              "      <td>32387125.0</td>\n",
              "      <td>2022-03-15T21:21:42.000Z</td>\n",
              "      <td>1.699066e+09</td>\n",
              "      <td>True</td>\n",
              "      <td>US</td>\n",
              "      <td>EN</td>\n",
              "      <td>2000-07-07T00:00:00.000Z</td>\n",
              "      <td>2022-10-11T00:00:00.000Z</td>\n",
              "    </tr>\n",
              "  </tbody>\n",
              "</table>\n",
              "<p>5 rows × 22 columns</p>\n",
              "</div>\n",
              "      <button class=\"colab-df-convert\" onclick=\"convertToInteractive('df-cf540823-49aa-419d-8664-a4fe0902b975')\"\n",
              "              title=\"Convert this dataframe to an interactive table.\"\n",
              "              style=\"display:none;\">\n",
              "        \n",
              "  <svg xmlns=\"http://www.w3.org/2000/svg\" height=\"24px\"viewBox=\"0 0 24 24\"\n",
              "       width=\"24px\">\n",
              "    <path d=\"M0 0h24v24H0V0z\" fill=\"none\"/>\n",
              "    <path d=\"M18.56 5.44l.94 2.06.94-2.06 2.06-.94-2.06-.94-.94-2.06-.94 2.06-2.06.94zm-11 1L8.5 8.5l.94-2.06 2.06-.94-2.06-.94L8.5 2.5l-.94 2.06-2.06.94zm10 10l.94 2.06.94-2.06 2.06-.94-2.06-.94-.94-2.06-.94 2.06-2.06.94z\"/><path d=\"M17.41 7.96l-1.37-1.37c-.4-.4-.92-.59-1.43-.59-.52 0-1.04.2-1.43.59L10.3 9.45l-7.72 7.72c-.78.78-.78 2.05 0 2.83L4 21.41c.39.39.9.59 1.41.59.51 0 1.02-.2 1.41-.59l7.78-7.78 2.81-2.81c.8-.78.8-2.07 0-2.86zM5.41 20L4 18.59l7.72-7.72 1.47 1.35L5.41 20z\"/>\n",
              "  </svg>\n",
              "      </button>\n",
              "      \n",
              "  <style>\n",
              "    .colab-df-container {\n",
              "      display:flex;\n",
              "      flex-wrap:wrap;\n",
              "      gap: 12px;\n",
              "    }\n",
              "\n",
              "    .colab-df-convert {\n",
              "      background-color: #E8F0FE;\n",
              "      border: none;\n",
              "      border-radius: 50%;\n",
              "      cursor: pointer;\n",
              "      display: none;\n",
              "      fill: #1967D2;\n",
              "      height: 32px;\n",
              "      padding: 0 0 0 0;\n",
              "      width: 32px;\n",
              "    }\n",
              "\n",
              "    .colab-df-convert:hover {\n",
              "      background-color: #E2EBFA;\n",
              "      box-shadow: 0px 1px 2px rgba(60, 64, 67, 0.3), 0px 1px 3px 1px rgba(60, 64, 67, 0.15);\n",
              "      fill: #174EA6;\n",
              "    }\n",
              "\n",
              "    [theme=dark] .colab-df-convert {\n",
              "      background-color: #3B4455;\n",
              "      fill: #D2E3FC;\n",
              "    }\n",
              "\n",
              "    [theme=dark] .colab-df-convert:hover {\n",
              "      background-color: #434B5C;\n",
              "      box-shadow: 0px 1px 3px 1px rgba(0, 0, 0, 0.15);\n",
              "      filter: drop-shadow(0px 1px 2px rgba(0, 0, 0, 0.3));\n",
              "      fill: #FFFFFF;\n",
              "    }\n",
              "  </style>\n",
              "\n",
              "      <script>\n",
              "        const buttonEl =\n",
              "          document.querySelector('#df-cf540823-49aa-419d-8664-a4fe0902b975 button.colab-df-convert');\n",
              "        buttonEl.style.display =\n",
              "          google.colab.kernel.accessAllowed ? 'block' : 'none';\n",
              "\n",
              "        async function convertToInteractive(key) {\n",
              "          const element = document.querySelector('#df-cf540823-49aa-419d-8664-a4fe0902b975');\n",
              "          const dataTable =\n",
              "            await google.colab.kernel.invokeFunction('convertToInteractive',\n",
              "                                                     [key], {});\n",
              "          if (!dataTable) return;\n",
              "\n",
              "          const docLinkHtml = 'Like what you see? Visit the ' +\n",
              "            '<a target=\"_blank\" href=https://colab.research.google.com/notebooks/data_table.ipynb>data table notebook</a>'\n",
              "            + ' to learn more about interactive tables.';\n",
              "          element.innerHTML = '';\n",
              "          dataTable['output_type'] = 'display_data';\n",
              "          await google.colab.output.renderOutput(dataTable, element);\n",
              "          const docLink = document.createElement('div');\n",
              "          docLink.innerHTML = docLinkHtml;\n",
              "          element.appendChild(docLink);\n",
              "        }\n",
              "      </script>\n",
              "    </div>\n",
              "  </div>\n",
              "  "
            ]
          },
          "metadata": {},
          "execution_count": 23
        }
      ]
    },
    {
      "cell_type": "code",
      "source": [
        "df.isnull().sum()"
      ],
      "metadata": {
        "colab": {
          "base_uri": "https://localhost:8080/"
        },
        "id": "Mo3UQgMs1Q4B",
        "outputId": "a6de3264-1098-4fc1-c7fd-1c90d7d83c0c"
      },
      "execution_count": 24,
      "outputs": [
        {
          "output_type": "execute_result",
          "data": {
            "text/plain": [
              "Unnamed: 0                0\n",
              "title                     0\n",
              "project_id                0\n",
              "adult_content             0\n",
              "lang                      0\n",
              "description               3\n",
              "instructions_flag         0\n",
              "requester_id              0\n",
              "requester_trusted_flag    0\n",
              "project_stat              0\n",
              "avg_money_hourly          0\n",
              "moneyMed                  0\n",
              "moneyTop10                0\n",
              "moneyMax3                 0\n",
              "pool_id                   0\n",
              "pool_started_at           0\n",
              "user_id                   0\n",
              "task_attempted_flag       0\n",
              "country                   0\n",
              "user_language             0\n",
              "birth_day                 0\n",
              "joined                    0\n",
              "dtype: int64"
            ]
          },
          "metadata": {},
          "execution_count": 24
        }
      ]
    },
    {
      "cell_type": "markdown",
      "source": [
        "Now we are just left with 3 NaN values in 'description' column. We would not be needing description column at all unless we are planning to incorporate NLP. However, for now I will just be dropping these three rows so we still will be having the 'description' column in case we decide to implement NLP. Also we can later on probably impute these values using NLP as well."
      ],
      "metadata": {
        "id": "0B_AMtvf1ySk"
      }
    },
    {
      "cell_type": "code",
      "source": [
        "df = df[df['description'].notna()]"
      ],
      "metadata": {
        "id": "Z4VgaGGV2rXi"
      },
      "execution_count": 25,
      "outputs": []
    },
    {
      "cell_type": "code",
      "source": [
        "df.isnull().sum()"
      ],
      "metadata": {
        "colab": {
          "base_uri": "https://localhost:8080/"
        },
        "id": "vKC7BJum20u0",
        "outputId": "59b4a011-c82d-4ebf-bb5e-e1b027250632"
      },
      "execution_count": 26,
      "outputs": [
        {
          "output_type": "execute_result",
          "data": {
            "text/plain": [
              "Unnamed: 0                0\n",
              "title                     0\n",
              "project_id                0\n",
              "adult_content             0\n",
              "lang                      0\n",
              "description               0\n",
              "instructions_flag         0\n",
              "requester_id              0\n",
              "requester_trusted_flag    0\n",
              "project_stat              0\n",
              "avg_money_hourly          0\n",
              "moneyMed                  0\n",
              "moneyTop10                0\n",
              "moneyMax3                 0\n",
              "pool_id                   0\n",
              "pool_started_at           0\n",
              "user_id                   0\n",
              "task_attempted_flag       0\n",
              "country                   0\n",
              "user_language             0\n",
              "birth_day                 0\n",
              "joined                    0\n",
              "dtype: int64"
            ]
          },
          "metadata": {},
          "execution_count": 26
        }
      ]
    },
    {
      "cell_type": "code",
      "source": [
        "df = df.reset_index(drop=True)"
      ],
      "metadata": {
        "id": "zo8yVMFMNlqx"
      },
      "execution_count": 27,
      "outputs": []
    },
    {
      "cell_type": "code",
      "source": [
        "df.shape"
      ],
      "metadata": {
        "colab": {
          "base_uri": "https://localhost:8080/"
        },
        "id": "d-vi9ldt2zna",
        "outputId": "fd67f6bb-1aa0-456c-b77f-7d0671b4668e"
      },
      "execution_count": 28,
      "outputs": [
        {
          "output_type": "execute_result",
          "data": {
            "text/plain": [
              "(70, 22)"
            ]
          },
          "metadata": {},
          "execution_count": 28
        }
      ]
    },
    {
      "cell_type": "code",
      "source": [
        "df_new = df"
      ],
      "metadata": {
        "id": "zRMvJz3eE813"
      },
      "execution_count": 29,
      "outputs": []
    },
    {
      "cell_type": "markdown",
      "source": [
        "Now the cleaned data contains 70 rows and 22 columns as compared to the raw data with 85 rows and 23 columns."
      ],
      "metadata": {
        "id": "QTpqi19929KG"
      }
    },
    {
      "cell_type": "markdown",
      "source": [
        "# Feature Engineering"
      ],
      "metadata": {
        "id": "tGHrvPxZ3jiu"
      }
    },
    {
      "cell_type": "markdown",
      "source": [
        "* Creating 'age' column from 'birth_day' column"
      ],
      "metadata": {
        "id": "-0wWiaGd3sza"
      }
    },
    {
      "cell_type": "code",
      "source": [
        "from datetime import date"
      ],
      "metadata": {
        "id": "QvOBSxC_38Vb"
      },
      "execution_count": 30,
      "outputs": []
    },
    {
      "cell_type": "code",
      "source": [
        "def age(birthdate):\n",
        "  today = date.today()\n",
        "  age = today.year - birthdate.year - ((today.month, today.day) < (birthdate.month, birthdate.day))\n",
        "  return age"
      ],
      "metadata": {
        "id": "aMcjhNiX4Muh"
      },
      "execution_count": 31,
      "outputs": []
    },
    {
      "cell_type": "code",
      "source": [
        "df['birth_day'] = df['birth_day'].str[:10]"
      ],
      "metadata": {
        "id": "OhDuU1wO_W5i"
      },
      "execution_count": 32,
      "outputs": []
    },
    {
      "cell_type": "code",
      "source": [
        "df['birth_day'] = pd.to_datetime(df['birth_day'], errors='coerce')"
      ],
      "metadata": {
        "id": "37qfa2_SAJJ_"
      },
      "execution_count": 33,
      "outputs": []
    },
    {
      "cell_type": "code",
      "source": [
        "age_list = []\n",
        "for i in range(len(df['birth_day'])):\n",
        "  ages = age(df['birth_day'][i])\n",
        "  age_list.append(ages)"
      ],
      "metadata": {
        "id": "Z1VpvIvTASw_"
      },
      "execution_count": 34,
      "outputs": []
    },
    {
      "cell_type": "code",
      "source": [
        "df['age'] = age_list"
      ],
      "metadata": {
        "id": "7EcXCTXGNWx8"
      },
      "execution_count": 35,
      "outputs": []
    },
    {
      "cell_type": "code",
      "source": [
        "df.head()"
      ],
      "metadata": {
        "colab": {
          "base_uri": "https://localhost:8080/",
          "height": 595
        },
        "id": "bg3YSNAcOCJs",
        "outputId": "9e4c6a8d-3f9c-4e36-eeae-6124ae62086d"
      },
      "execution_count": 36,
      "outputs": [
        {
          "output_type": "execute_result",
          "data": {
            "text/plain": [
              "   Unnamed: 0                                           title  project_id  \\\n",
              "0           0                   [Toloka] English Grammar Test      105273   \n",
              "1           1                   [Toloka] English Grammar Test      105273   \n",
              "2           2       [Toloka] Prueba de comprensión de español       62518   \n",
              "3           3                    Page relevance (new version)       81714   \n",
              "4           4  Is the image a good picture of the zoo animal?       84339   \n",
              "\n",
              "   adult_content lang                                        description  \\\n",
              "0            0.0   EN  Take the test and get more paid tasks.\\nAfter ...   \n",
              "1            0.0   EN  Take the test and get more paid tasks.\\nAfter ...   \n",
              "2            0.0   EN  Haz la prueba y recibe más tareas pagadas.\\nSi...   \n",
              "3            0.0   EN  Passing the exam with a good quality opens the...   \n",
              "4            1.0   EN  Please judge if the image is showing a correct...   \n",
              "\n",
              "   instructions_flag                      requester_id  \\\n",
              "0                1.0  71daea4cffae4488067aebfb6583914a   \n",
              "1                1.0  71daea4cffae4488067aebfb6583914a   \n",
              "2                0.0  71daea4cffae4488067aebfb6583914a   \n",
              "3                1.0  0f3f3a1c8053bf6128f7a3b730e9162c   \n",
              "4                1.0  e134d662550bd2d2176b4f3e515f6e23   \n",
              "\n",
              "   requester_trusted_flag  project_stat  ...  moneyMax3     pool_id  \\\n",
              "0                     0.0          4.75  ...       0.00  36185755.0   \n",
              "1                     0.0          4.75  ...       0.00  36185755.0   \n",
              "2                     0.0          4.50  ...       0.00  35994576.0   \n",
              "3                     1.0          4.39  ...       0.31  33608621.0   \n",
              "4                     0.0          4.57  ...       0.00  32387125.0   \n",
              "\n",
              "            pool_started_at       user_id  task_attempted_flag country  \\\n",
              "0   2022-11-03T19:07:12.911  1.699066e+09                 True      US   \n",
              "1  2022-11-03T19:07:13.000Z  1.699066e+09                 True      US   \n",
              "2  2022-10-22T06:38:00.000Z  1.699066e+09                 True      US   \n",
              "3  2022-05-27T08:40:05.000Z  1.699066e+09                 True      US   \n",
              "4  2022-03-15T21:21:42.000Z  1.699066e+09                 True      US   \n",
              "\n",
              "   user_language  birth_day                    joined age  \n",
              "0             EN 2000-07-07  2022-10-11T00:00:00.000Z  22  \n",
              "1             EN 2000-07-07  2022-10-11T00:00:00.000Z  22  \n",
              "2             EN 2000-07-07  2022-10-11T00:00:00.000Z  22  \n",
              "3             EN 2000-07-07  2022-10-11T00:00:00.000Z  22  \n",
              "4             EN 2000-07-07  2022-10-11T00:00:00.000Z  22  \n",
              "\n",
              "[5 rows x 23 columns]"
            ],
            "text/html": [
              "\n",
              "  <div id=\"df-3851a143-8a10-4dae-bada-7725afc0e1f9\">\n",
              "    <div class=\"colab-df-container\">\n",
              "      <div>\n",
              "<style scoped>\n",
              "    .dataframe tbody tr th:only-of-type {\n",
              "        vertical-align: middle;\n",
              "    }\n",
              "\n",
              "    .dataframe tbody tr th {\n",
              "        vertical-align: top;\n",
              "    }\n",
              "\n",
              "    .dataframe thead th {\n",
              "        text-align: right;\n",
              "    }\n",
              "</style>\n",
              "<table border=\"1\" class=\"dataframe\">\n",
              "  <thead>\n",
              "    <tr style=\"text-align: right;\">\n",
              "      <th></th>\n",
              "      <th>Unnamed: 0</th>\n",
              "      <th>title</th>\n",
              "      <th>project_id</th>\n",
              "      <th>adult_content</th>\n",
              "      <th>lang</th>\n",
              "      <th>description</th>\n",
              "      <th>instructions_flag</th>\n",
              "      <th>requester_id</th>\n",
              "      <th>requester_trusted_flag</th>\n",
              "      <th>project_stat</th>\n",
              "      <th>...</th>\n",
              "      <th>moneyMax3</th>\n",
              "      <th>pool_id</th>\n",
              "      <th>pool_started_at</th>\n",
              "      <th>user_id</th>\n",
              "      <th>task_attempted_flag</th>\n",
              "      <th>country</th>\n",
              "      <th>user_language</th>\n",
              "      <th>birth_day</th>\n",
              "      <th>joined</th>\n",
              "      <th>age</th>\n",
              "    </tr>\n",
              "  </thead>\n",
              "  <tbody>\n",
              "    <tr>\n",
              "      <th>0</th>\n",
              "      <td>0</td>\n",
              "      <td>[Toloka] English Grammar Test</td>\n",
              "      <td>105273</td>\n",
              "      <td>0.0</td>\n",
              "      <td>EN</td>\n",
              "      <td>Take the test and get more paid tasks.\\nAfter ...</td>\n",
              "      <td>1.0</td>\n",
              "      <td>71daea4cffae4488067aebfb6583914a</td>\n",
              "      <td>0.0</td>\n",
              "      <td>4.75</td>\n",
              "      <td>...</td>\n",
              "      <td>0.00</td>\n",
              "      <td>36185755.0</td>\n",
              "      <td>2022-11-03T19:07:12.911</td>\n",
              "      <td>1.699066e+09</td>\n",
              "      <td>True</td>\n",
              "      <td>US</td>\n",
              "      <td>EN</td>\n",
              "      <td>2000-07-07</td>\n",
              "      <td>2022-10-11T00:00:00.000Z</td>\n",
              "      <td>22</td>\n",
              "    </tr>\n",
              "    <tr>\n",
              "      <th>1</th>\n",
              "      <td>1</td>\n",
              "      <td>[Toloka] English Grammar Test</td>\n",
              "      <td>105273</td>\n",
              "      <td>0.0</td>\n",
              "      <td>EN</td>\n",
              "      <td>Take the test and get more paid tasks.\\nAfter ...</td>\n",
              "      <td>1.0</td>\n",
              "      <td>71daea4cffae4488067aebfb6583914a</td>\n",
              "      <td>0.0</td>\n",
              "      <td>4.75</td>\n",
              "      <td>...</td>\n",
              "      <td>0.00</td>\n",
              "      <td>36185755.0</td>\n",
              "      <td>2022-11-03T19:07:13.000Z</td>\n",
              "      <td>1.699066e+09</td>\n",
              "      <td>True</td>\n",
              "      <td>US</td>\n",
              "      <td>EN</td>\n",
              "      <td>2000-07-07</td>\n",
              "      <td>2022-10-11T00:00:00.000Z</td>\n",
              "      <td>22</td>\n",
              "    </tr>\n",
              "    <tr>\n",
              "      <th>2</th>\n",
              "      <td>2</td>\n",
              "      <td>[Toloka] Prueba de comprensión de español</td>\n",
              "      <td>62518</td>\n",
              "      <td>0.0</td>\n",
              "      <td>EN</td>\n",
              "      <td>Haz la prueba y recibe más tareas pagadas.\\nSi...</td>\n",
              "      <td>0.0</td>\n",
              "      <td>71daea4cffae4488067aebfb6583914a</td>\n",
              "      <td>0.0</td>\n",
              "      <td>4.50</td>\n",
              "      <td>...</td>\n",
              "      <td>0.00</td>\n",
              "      <td>35994576.0</td>\n",
              "      <td>2022-10-22T06:38:00.000Z</td>\n",
              "      <td>1.699066e+09</td>\n",
              "      <td>True</td>\n",
              "      <td>US</td>\n",
              "      <td>EN</td>\n",
              "      <td>2000-07-07</td>\n",
              "      <td>2022-10-11T00:00:00.000Z</td>\n",
              "      <td>22</td>\n",
              "    </tr>\n",
              "    <tr>\n",
              "      <th>3</th>\n",
              "      <td>3</td>\n",
              "      <td>Page relevance (new version)</td>\n",
              "      <td>81714</td>\n",
              "      <td>0.0</td>\n",
              "      <td>EN</td>\n",
              "      <td>Passing the exam with a good quality opens the...</td>\n",
              "      <td>1.0</td>\n",
              "      <td>0f3f3a1c8053bf6128f7a3b730e9162c</td>\n",
              "      <td>1.0</td>\n",
              "      <td>4.39</td>\n",
              "      <td>...</td>\n",
              "      <td>0.31</td>\n",
              "      <td>33608621.0</td>\n",
              "      <td>2022-05-27T08:40:05.000Z</td>\n",
              "      <td>1.699066e+09</td>\n",
              "      <td>True</td>\n",
              "      <td>US</td>\n",
              "      <td>EN</td>\n",
              "      <td>2000-07-07</td>\n",
              "      <td>2022-10-11T00:00:00.000Z</td>\n",
              "      <td>22</td>\n",
              "    </tr>\n",
              "    <tr>\n",
              "      <th>4</th>\n",
              "      <td>4</td>\n",
              "      <td>Is the image a good picture of the zoo animal?</td>\n",
              "      <td>84339</td>\n",
              "      <td>1.0</td>\n",
              "      <td>EN</td>\n",
              "      <td>Please judge if the image is showing a correct...</td>\n",
              "      <td>1.0</td>\n",
              "      <td>e134d662550bd2d2176b4f3e515f6e23</td>\n",
              "      <td>0.0</td>\n",
              "      <td>4.57</td>\n",
              "      <td>...</td>\n",
              "      <td>0.00</td>\n",
              "      <td>32387125.0</td>\n",
              "      <td>2022-03-15T21:21:42.000Z</td>\n",
              "      <td>1.699066e+09</td>\n",
              "      <td>True</td>\n",
              "      <td>US</td>\n",
              "      <td>EN</td>\n",
              "      <td>2000-07-07</td>\n",
              "      <td>2022-10-11T00:00:00.000Z</td>\n",
              "      <td>22</td>\n",
              "    </tr>\n",
              "  </tbody>\n",
              "</table>\n",
              "<p>5 rows × 23 columns</p>\n",
              "</div>\n",
              "      <button class=\"colab-df-convert\" onclick=\"convertToInteractive('df-3851a143-8a10-4dae-bada-7725afc0e1f9')\"\n",
              "              title=\"Convert this dataframe to an interactive table.\"\n",
              "              style=\"display:none;\">\n",
              "        \n",
              "  <svg xmlns=\"http://www.w3.org/2000/svg\" height=\"24px\"viewBox=\"0 0 24 24\"\n",
              "       width=\"24px\">\n",
              "    <path d=\"M0 0h24v24H0V0z\" fill=\"none\"/>\n",
              "    <path d=\"M18.56 5.44l.94 2.06.94-2.06 2.06-.94-2.06-.94-.94-2.06-.94 2.06-2.06.94zm-11 1L8.5 8.5l.94-2.06 2.06-.94-2.06-.94L8.5 2.5l-.94 2.06-2.06.94zm10 10l.94 2.06.94-2.06 2.06-.94-2.06-.94-.94-2.06-.94 2.06-2.06.94z\"/><path d=\"M17.41 7.96l-1.37-1.37c-.4-.4-.92-.59-1.43-.59-.52 0-1.04.2-1.43.59L10.3 9.45l-7.72 7.72c-.78.78-.78 2.05 0 2.83L4 21.41c.39.39.9.59 1.41.59.51 0 1.02-.2 1.41-.59l7.78-7.78 2.81-2.81c.8-.78.8-2.07 0-2.86zM5.41 20L4 18.59l7.72-7.72 1.47 1.35L5.41 20z\"/>\n",
              "  </svg>\n",
              "      </button>\n",
              "      \n",
              "  <style>\n",
              "    .colab-df-container {\n",
              "      display:flex;\n",
              "      flex-wrap:wrap;\n",
              "      gap: 12px;\n",
              "    }\n",
              "\n",
              "    .colab-df-convert {\n",
              "      background-color: #E8F0FE;\n",
              "      border: none;\n",
              "      border-radius: 50%;\n",
              "      cursor: pointer;\n",
              "      display: none;\n",
              "      fill: #1967D2;\n",
              "      height: 32px;\n",
              "      padding: 0 0 0 0;\n",
              "      width: 32px;\n",
              "    }\n",
              "\n",
              "    .colab-df-convert:hover {\n",
              "      background-color: #E2EBFA;\n",
              "      box-shadow: 0px 1px 2px rgba(60, 64, 67, 0.3), 0px 1px 3px 1px rgba(60, 64, 67, 0.15);\n",
              "      fill: #174EA6;\n",
              "    }\n",
              "\n",
              "    [theme=dark] .colab-df-convert {\n",
              "      background-color: #3B4455;\n",
              "      fill: #D2E3FC;\n",
              "    }\n",
              "\n",
              "    [theme=dark] .colab-df-convert:hover {\n",
              "      background-color: #434B5C;\n",
              "      box-shadow: 0px 1px 3px 1px rgba(0, 0, 0, 0.15);\n",
              "      filter: drop-shadow(0px 1px 2px rgba(0, 0, 0, 0.3));\n",
              "      fill: #FFFFFF;\n",
              "    }\n",
              "  </style>\n",
              "\n",
              "      <script>\n",
              "        const buttonEl =\n",
              "          document.querySelector('#df-3851a143-8a10-4dae-bada-7725afc0e1f9 button.colab-df-convert');\n",
              "        buttonEl.style.display =\n",
              "          google.colab.kernel.accessAllowed ? 'block' : 'none';\n",
              "\n",
              "        async function convertToInteractive(key) {\n",
              "          const element = document.querySelector('#df-3851a143-8a10-4dae-bada-7725afc0e1f9');\n",
              "          const dataTable =\n",
              "            await google.colab.kernel.invokeFunction('convertToInteractive',\n",
              "                                                     [key], {});\n",
              "          if (!dataTable) return;\n",
              "\n",
              "          const docLinkHtml = 'Like what you see? Visit the ' +\n",
              "            '<a target=\"_blank\" href=https://colab.research.google.com/notebooks/data_table.ipynb>data table notebook</a>'\n",
              "            + ' to learn more about interactive tables.';\n",
              "          element.innerHTML = '';\n",
              "          dataTable['output_type'] = 'display_data';\n",
              "          await google.colab.output.renderOutput(dataTable, element);\n",
              "          const docLink = document.createElement('div');\n",
              "          docLink.innerHTML = docLinkHtml;\n",
              "          element.appendChild(docLink);\n",
              "        }\n",
              "      </script>\n",
              "    </div>\n",
              "  </div>\n",
              "  "
            ]
          },
          "metadata": {},
          "execution_count": 36
        }
      ]
    },
    {
      "cell_type": "code",
      "source": [
        "df_csv = df.to_csv('cleaned_data.csv')"
      ],
      "metadata": {
        "id": "M947nOKlOLjI"
      },
      "execution_count": 37,
      "outputs": []
    },
    {
      "cell_type": "code",
      "source": [],
      "metadata": {
        "id": "fSPY-ef9DoKQ"
      },
      "execution_count": null,
      "outputs": []
    }
  ]
}