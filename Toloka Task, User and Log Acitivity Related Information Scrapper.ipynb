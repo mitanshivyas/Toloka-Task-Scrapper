{
 "cells": [
  {
   "cell_type": "markdown",
   "id": "d6588d02",
   "metadata": {},
   "source": [
    "# The purpose of this python script is to scrape task and task, user and log related information off of the freelancing platform Toloka and to further store these features in a DataFrame"
   ]
  },
  {
   "cell_type": "markdown",
   "id": "28b3ef5f",
   "metadata": {},
   "source": [
    "### Importing Dependencies"
   ]
  },
  {
   "cell_type": "code",
   "execution_count": 3,
   "id": "9760e237",
   "metadata": {},
   "outputs": [],
   "source": [
    "import requests\n",
    "from lxml import html\n",
    "import pandas as pd"
   ]
  },
  {
   "cell_type": "markdown",
   "id": "4a6bfe5b",
   "metadata": {},
   "source": [
    "## Fetching the Tasks content from Toloka"
   ]
  },
  {
   "cell_type": "code",
   "execution_count": 4,
   "id": "aaa375fb",
   "metadata": {},
   "outputs": [],
   "source": [
    "myToken = \"y0_AgAAAABkcQnJAACtpQAAAADO2AZOBndtdy51TQKGGGQ8qCdk0Z57kCs\""
   ]
  },
  {
   "cell_type": "code",
   "execution_count": 5,
   "id": "c90656a1",
   "metadata": {},
   "outputs": [],
   "source": [
    "myUrl=\"https://toloka.yandex.com/api/task-suite-pool-groups?userLangs=en\"\n",
    "head = {'Authorization': 'OAuth {}'.format(myToken)}\n",
    "poolsres = requests.get(myUrl, headers=head)"
   ]
  },
  {
   "cell_type": "code",
   "execution_count": 6,
   "id": "f0c740a8",
   "metadata": {},
   "outputs": [],
   "source": [
    "# storing the fetched content into variable 'toloka_content'\n",
    "toloka_content = poolsres.json()"
   ]
  },
  {
   "cell_type": "code",
   "execution_count": 7,
   "id": "ea650735",
   "metadata": {
    "scrolled": true
   },
   "outputs": [
    {
     "name": "stdout",
     "output_type": "stream",
     "text": [
      "[{'refUuid': '00d4695c-1c41-4d18-95ca-85b4ed658328', 'groupUuid': 'd51813a1-3d7f-4af0-af41-46d42673b44b', 'projectId': 105273, 'mayContainAdultContent': False, 'lang': 'EN', 'title': '[Toloka] English Grammar Test', 'description': \"Take the test and get more paid tasks.\\nAfter you pass the test, you'll get access to more difficult tasks that require advanced language skills.\", 'hasInstructions': True, 'snapshotMajorVersion': 1, 'snapshotMinorVersion': 1, 'snapshotMajorVersionActual': True, 'assignmentIssuingType': 'AUTOMATIC', 'requesterInfo': {'id': '71daea4cffae4488067aebfb6583914a', 'name': {'EN': 'Toloka'}, 'trusted': False}, 'availability': {'available': True}, 'postAccept': False, 'iframeSubdomain': '71daea4cffae4488067aebfb6583914a', 'trainingDetails': {'training': False}, 'projectStats': {'grade': {'total_grade': 4.8}, 'averageSubmitTimeSec': 316, 'moneyAvgHourly': 0.0}, 'pools': [{'id': 36185755, 'startedAt': '2022-11-03T19:07:12.911', 'reward': '0.000', 'assignmentMaxDurationSeconds': 900, 'regularSubtype': 'EXAM'}], 'projectMetaInfo': {'projectId': 105273, 'experimentMeta': {'dj_task_duration__snippet__duration_from_minute_to_five': '1', 'dj_project_tag__requester_type__snippet__experienced_requester': '1'}}}, {'refUuid': '00d4695c-1c41-4d18-95ca-85b4ed658328', 'groupUuid': '160adecf-cc95-43ad-8b5b-404af3410a2e', 'projectId': 78414, 'mayContainAdultContent': False, 'lang': 'EN', 'title': 'Check the similarity between two products', 'description': 'In this task, you will see two product listings. The PRODUCT is a product that a user has bookmarked for \\nwhich we would like to show them. The RECOMMENDED PRODUCT offers a product we \\nmight suggest to the user. The goal of this task is to classify these recommendations into one of the \\nfollowing categories based on how closely the RECOMMENDED PRODUCT matches the PRODUCT.', 'hasInstructions': True, 'snapshotMajorVersion': 5, 'snapshotMinorVersion': 11, 'snapshotMajorVersionActual': True, 'assignmentIssuingType': 'AUTOMATIC', 'requesterInfo': {'id': 'dbaa749ed83b3ef412a3167f6c53c363', 'name': {'EN': 'ADE4PA'}, 'trusted': False}, 'availability': {'available': True}, 'postAccept': False, 'iframeSubdomain': 'dbaa749ed83b3ef412a3167f6c53c363', 'trainingDetails': {'training': True, 'regularSubtype': 'EXAM', 'regularPoolReward': '0.000', 'mayContainAdultContent': False, 'maxDurationSeconds': 600, 'acceptanceDetails': {'postAccept': False}}, 'projectStats': {'grade': {'total_grade': 4.33}, 'averageSubmitTimeSec': 363, 'moneyAvgHourly': 0.0, 'moneyAvg': 0.57, 'moneyMed': 0.0, 'moneyTop10': 1.2, 'moneyMax3': 19.83}, 'pools': [{'id': 35838995, 'startedAt': '2022-10-11T23:36:03.957', 'reward': '0.000', 'assignmentMaxDurationSeconds': 120}], 'projectMetaInfo': {'projectId': 78414, 'experimentMeta': {'dj_task_duration__snippet__duration_less_than_minute': '1', 'dj_project_class__snippet__relevance': '1', 'dj_project_tag__requester_type__snippet__experienced_requester': '1'}}}, {'refUuid': '00d4695c-1c41-4d18-95ca-85b4ed658328', 'groupUuid': 'f46eba64-1fd3-429e-8dd1-f7c016d74e3f', 'projectId': 85377, 'mayContainAdultContent': False, 'title': 'Object recognition & detection', 'description': 'Outline a road signs in images', 'hasInstructions': True, 'snapshotMajorVersion': 1, 'snapshotMinorVersion': 1, 'snapshotMajorVersionActual': True, 'assignmentIssuingType': 'AUTOMATIC', 'requesterInfo': {'id': 'a841946b60a3fc816968533af5f8b371', 'name': {'EN': 'michaelyuyangtong'}, 'trusted': False}, 'availability': {'available': True}, 'postAccept': True, 'iframeSubdomain': 'a841946b60a3fc816968533af5f8b371', 'trainingDetails': {'training': False}, 'projectStats': {'grade': {'total_grade': 1.68}}, 'pools': [{'id': 32474078, 'startedAt': '2022-03-20T11:29:40.108', 'reward': '0.010', 'assignmentMaxDurationSeconds': 300, 'acceptancePeriodDays': 7}], 'projectMetaInfo': {'projectId': 85377, 'experimentMeta': {'dj_project_class__snippet__segmentation': '1'}}}, {'refUuid': '00d4695c-1c41-4d18-95ca-85b4ed658328', 'groupUuid': 'c81b1577-bd3b-4dac-a9e6-77ac798c2550', 'projectId': 118804, 'mayContainAdultContent': False, 'title': \"Does coupon screenshot match the provided coupon's information? (South Africa)\", 'description': \"Look at the coupon's screenshot and compare it with coupon description. Do they match?\", 'hasInstructions': True, 'snapshotMajorVersion': 1, 'snapshotMinorVersion': 3, 'snapshotMajorVersionActual': True, 'assignmentIssuingType': 'AUTOMATIC', 'requesterInfo': {'id': 'b8867ba0bef402679ca8cf0561e54ba1', 'name': {'EN': 'bing-commerce', 'RU': 'bing-commerce'}, 'trusted': False}, 'availability': {'available': True}, 'postAccept': False, 'iframeSubdomain': 'b8867ba0bef402679ca8cf0561e54ba1', 'trainingDetails': {'training': True, 'regularSubtype': 'EXAM', 'regularPoolReward': '0.020', 'mayContainAdultContent': False, 'maxDurationSeconds': 1200, 'acceptanceDetails': {'postAccept': True, 'acceptanceRate': 99, 'acceptancePeriodDays': 1, 'averageAcceptancePeriodDays': 1.0}}, 'projectStats': {'grade': {'total_grade': 4.72}, 'averageSubmitTimeSec': 202, 'moneyAvgHourly': 0.35643564, 'moneyAvg': 0.02, 'moneyMed': 0.02, 'moneyTop10': 0.02}, 'pools': [{'id': 36265361, 'startedAt': '2022-11-09T11:49:26.005', 'reward': '0.000', 'assignmentMaxDurationSeconds': 3600}], 'projectMetaInfo': {'projectId': 118804, 'experimentMeta': {'dj_task_duration__snippet__duration_less_than_minute': '1', 'dj_project_class__snippet__moderation': '1', 'dj_project_tag__requester_type__snippet__experienced_requester': '1'}}}, {'refUuid': '00d4695c-1c41-4d18-95ca-85b4ed658328', 'groupUuid': '80504db5-1d2a-4a47-94d4-6182fdb5a219', 'projectId': 114652, 'mayContainAdultContent': False, 'lang': 'RU', 'title': 'Сделайте  и загрузите фото собаки/Take and upload photos of a dog', 'description': 'Сделайте фото собаки согласно инструкции и загрузите. Перед выполнением задания внимательно ознакомьтесь с инструкцией и просмотрите примеры. Все задания проходят нашу тщательную проверку!\\nTake photos of the dog according to the instructions and upload it. Before completing the task, carefully read the instructions and view the examples. All tasks are carefully checked by us!\\n', 'hasInstructions': True, 'snapshotMajorVersion': 4, 'snapshotMinorVersion': 10, 'snapshotMajorVersionActual': True, 'assignmentIssuingType': 'AUTOMATIC', 'requesterInfo': {'id': '631b832d247a0b9add115fb0a8346e6f', 'name': {'EN': 'NtechLab'}, 'trusted': False}, 'availability': {'available': True}, 'postAccept': True, 'iframeSubdomain': '631b832d247a0b9add115fb0a8346e6f', 'trainingDetails': {'training': False}, 'projectStats': {'acceptanceRate': 20, 'averageAcceptanceTimeSec': 245278, 'averageSubmitTimeSec': 49424, 'moneyAvgHourly': 0.0364194, 'moneyAvg': 0.25, 'moneyMed': 0.18, 'moneyTop10': 0.35, 'moneyMax3': 0.35}, 'pools': [{'id': 36088797, 'startedAt': '2022-11-10T12:00:54.397', 'reward': '0.500', 'assignmentMaxDurationSeconds': 600000, 'acceptancePeriodDays': 7}], 'projectMetaInfo': {'projectId': 114652, 'experimentMeta': {'dj_task_duration__snippet__duration_more_than_five_mins': '1', 'dj_project_class__snippet__user_content': '1', 'dj_project_tag__requester_type__snippet__experienced_requester': '1'}}}]\n"
     ]
    }
   ],
   "source": [
    "# having a look at the content\n",
    "print(toloka_content)"
   ]
  },
  {
   "cell_type": "code",
   "execution_count": 11,
   "id": "069d2e30",
   "metadata": {},
   "outputs": [],
   "source": [
    "# creating a separate dictionary for separate tasks\n",
    "\n",
    "def create_tasks_dictionary(content):\n",
    "    dicts = []\n",
    "    for i in range(len(content)):\n",
    "        individual_dicts = dict(content[i])\n",
    "        dicts.append(individual_dicts)\n",
    "    return dicts"
   ]
  },
  {
   "cell_type": "code",
   "execution_count": 12,
   "id": "974c388c",
   "metadata": {},
   "outputs": [
    {
     "name": "stdout",
     "output_type": "stream",
     "text": [
      "The total number of tasks: 4\n"
     ]
    }
   ],
   "source": [
    "tasks_dictionary = create_tasks_dictionary(toloka_content)\n",
    "\n",
    "print('The total number of tasks: ' + str(len(tasks_dictionary)))"
   ]
  },
  {
   "cell_type": "code",
   "execution_count": 13,
   "id": "58e62d76",
   "metadata": {
    "scrolled": true
   },
   "outputs": [
    {
     "name": "stdout",
     "output_type": "stream",
     "text": [
      "[{'refUuid': 'b362e5fc-dd12-4ab2-85db-eaff40fc3fd6', 'groupUuid': '227f7cd2-45cf-422c-a399-d4f956a49535', 'projectId': 85377, 'mayContainAdultContent': False, 'title': 'Object recognition & detection', 'description': 'Outline a road signs in images', 'hasInstructions': True, 'snapshotMajorVersion': 1, 'snapshotMinorVersion': 1, 'snapshotMajorVersionActual': True, 'assignmentIssuingType': 'AUTOMATIC', 'requesterInfo': {'id': 'a841946b60a3fc816968533af5f8b371', 'name': {'EN': 'michaelyuyangtong'}, 'trusted': False}, 'availability': {'available': True}, 'postAccept': True, 'iframeSubdomain': 'a841946b60a3fc816968533af5f8b371', 'trainingDetails': {'training': False}, 'projectStats': {'grade': {'total_grade': 1.84}}, 'pools': [{'id': 32474078, 'startedAt': '2022-03-20T11:29:40.108', 'reward': '0.010', 'assignmentMaxDurationSeconds': 300, 'acceptancePeriodDays': 7}], 'projectMetaInfo': {'projectId': 85377, 'experimentMeta': {'dj_project_class__snippet__segmentation': '1'}}}, {'refUuid': 'b362e5fc-dd12-4ab2-85db-eaff40fc3fd6', 'groupUuid': '6cb47fda-08b9-45d0-825d-f1cd1e2d2773', 'projectId': 105273, 'mayContainAdultContent': False, 'lang': 'EN', 'title': '[Toloka] English Grammar Test', 'description': \"Take the test and get more paid tasks.\\nAfter you pass the test, you'll get access to more difficult tasks that require advanced language skills.\", 'hasInstructions': True, 'snapshotMajorVersion': 1, 'snapshotMinorVersion': 1, 'snapshotMajorVersionActual': True, 'assignmentIssuingType': 'AUTOMATIC', 'requesterInfo': {'id': '71daea4cffae4488067aebfb6583914a', 'name': {'EN': 'Toloka'}, 'trusted': False}, 'availability': {'available': True}, 'postAccept': False, 'iframeSubdomain': '71daea4cffae4488067aebfb6583914a', 'trainingDetails': {'training': False}, 'projectStats': {'grade': {'total_grade': 4.62}, 'averageSubmitTimeSec': 319, 'moneyAvgHourly': 0.0}, 'pools': [{'id': 36185755, 'startedAt': '2022-11-03T19:07:12.911', 'reward': '0.000', 'assignmentMaxDurationSeconds': 900, 'regularSubtype': 'EXAM'}], 'projectMetaInfo': {'projectId': 105273, 'experimentMeta': {'dj_task_duration__snippet__duration_from_minute_to_five': '1', 'dj_project_tag__requester_type__snippet__experienced_requester': '1'}}}, {'refUuid': 'b362e5fc-dd12-4ab2-85db-eaff40fc3fd6', 'groupUuid': '05db1dfd-9342-4c8e-b146-bb44fad7cf0a', 'projectId': 78414, 'mayContainAdultContent': False, 'lang': 'EN', 'title': 'Check the similarity between two products', 'description': 'In this task, you will see two product listings. The PRODUCT is a product that a user has bookmarked for \\nwhich we would like to show them. The RECOMMENDED PRODUCT offers a product we \\nmight suggest to the user. The goal of this task is to classify these recommendations into one of the \\nfollowing categories based on how closely the RECOMMENDED PRODUCT matches the PRODUCT.', 'hasInstructions': True, 'snapshotMajorVersion': 5, 'snapshotMinorVersion': 11, 'snapshotMajorVersionActual': True, 'assignmentIssuingType': 'AUTOMATIC', 'requesterInfo': {'id': 'dbaa749ed83b3ef412a3167f6c53c363', 'name': {'EN': 'ADE4PA'}, 'trusted': False}, 'availability': {'available': True}, 'postAccept': False, 'iframeSubdomain': 'dbaa749ed83b3ef412a3167f6c53c363', 'trainingDetails': {'training': True, 'regularSubtype': 'EXAM', 'regularPoolReward': '0.000', 'mayContainAdultContent': False, 'maxDurationSeconds': 600, 'acceptanceDetails': {'postAccept': False}}, 'projectStats': {'grade': {'total_grade': 4.34}, 'averageSubmitTimeSec': 343, 'moneyAvgHourly': 0.0, 'moneyAvg': 0.38, 'moneyMed': 0.0, 'moneyTop10': 0.46, 'moneyMax3': 20.19}, 'pools': [{'id': 35838995, 'startedAt': '2022-10-11T23:36:03.957', 'reward': '0.000', 'assignmentMaxDurationSeconds': 120}], 'projectMetaInfo': {'projectId': 78414, 'experimentMeta': {'dj_task_duration__snippet__duration_less_than_minute': '1', 'dj_project_class__snippet__relevance': '1', 'dj_project_tag__requester_type__snippet__experienced_requester': '1'}}}, {'refUuid': 'b362e5fc-dd12-4ab2-85db-eaff40fc3fd6', 'groupUuid': 'fce9cd4d-1c0c-43ad-9b27-d505dfc5f24f', 'projectId': 114652, 'mayContainAdultContent': False, 'lang': 'RU', 'title': 'Сделайте  и загрузите фото собаки/Take and upload photos of a dog', 'description': 'Сделайте фото собаки согласно инструкции и загрузите. Перед выполнением задания внимательно ознакомьтесь с инструкцией и просмотрите примеры. Все задания проходят нашу тщательную проверку!\\nTake photos of the dog according to the instructions and upload it. Before completing the task, carefully read the instructions and view the examples. All tasks are carefully checked by us!\\n', 'hasInstructions': True, 'snapshotMajorVersion': 4, 'snapshotMinorVersion': 10, 'snapshotMajorVersionActual': True, 'assignmentIssuingType': 'AUTOMATIC', 'requesterInfo': {'id': '631b832d247a0b9add115fb0a8346e6f', 'name': {'EN': 'NtechLab'}, 'trusted': False}, 'availability': {'available': True}, 'postAccept': True, 'iframeSubdomain': '631b832d247a0b9add115fb0a8346e6f', 'trainingDetails': {'training': False}, 'projectStats': {'acceptanceRate': 15, 'averageAcceptanceTimeSec': 222846, 'averageSubmitTimeSec': 66286, 'moneyAvgHourly': 0.02715516, 'moneyAvg': 0.22, 'moneyMed': 0.18, 'moneyTop10': 0.35, 'moneyMax3': 0.35}, 'pools': [{'id': 36088797, 'startedAt': '2022-11-10T12:00:54.397', 'reward': '0.500', 'assignmentMaxDurationSeconds': 600000, 'acceptancePeriodDays': 7}], 'projectMetaInfo': {'projectId': 114652, 'experimentMeta': {'dj_task_duration__snippet__duration_more_than_five_mins': '1', 'dj_project_class__snippet__user_content': '1', 'dj_project_tag__requester_type__snippet__experienced_requester': '1'}}}]\n"
     ]
    }
   ],
   "source": [
    "print(tasks_dictionary)"
   ]
  },
  {
   "cell_type": "markdown",
   "id": "77d0686f",
   "metadata": {},
   "source": [
    "### Fetching the lists of Tasks from the Toloka Content"
   ]
  },
  {
   "cell_type": "code",
   "execution_count": 14,
   "id": "cf1c8eb2",
   "metadata": {},
   "outputs": [],
   "source": [
    "# creating a function to fetch the list of tasks from the tasks dictionary we created above\n",
    "def fetch_tasks(task_dict):\n",
    "    tasks = []\n",
    "    for i in range(len(task_dict)):\n",
    "        title = task_dict[i].get('title')\n",
    "        tasks.append(title)\n",
    "    return tasks"
   ]
  },
  {
   "cell_type": "code",
   "execution_count": 15,
   "id": "a7d9f190",
   "metadata": {},
   "outputs": [],
   "source": [
    "list_of_tasks = fetch_tasks(tasks_dictionary)"
   ]
  },
  {
   "cell_type": "code",
   "execution_count": 16,
   "id": "9b589799",
   "metadata": {},
   "outputs": [
    {
     "name": "stdout",
     "output_type": "stream",
     "text": [
      "The list of tasks on Toloka is provided below:\n",
      " \n",
      "1 Object recognition & detection\n",
      "2 [Toloka] English Grammar Test\n",
      "3 Check the similarity between two products\n",
      "4 Сделайте  и загрузите фото собаки/Take and upload photos of a dog\n"
     ]
    }
   ],
   "source": [
    "# printing the lists of tasks available on Toloka\n",
    "print(\"The list of tasks on Toloka is provided below:\")\n",
    "print(' ')\n",
    "for i in range(len(list_of_tasks)):\n",
    "    print(str(i+1)+ ' '+ str(list_of_tasks[i]))"
   ]
  },
  {
   "cell_type": "markdown",
   "id": "06b67c1e",
   "metadata": {},
   "source": [
    "### Fetching other task related information from the Toloka Content"
   ]
  },
  {
   "cell_type": "code",
   "execution_count": 100,
   "id": "7cb64d77",
   "metadata": {},
   "outputs": [],
   "source": [
    "# creating a function to fetch other important task related information from the tasks dictionary we created above\n",
    "def fetch_other_info(task_dict):\n",
    "    project_id = []\n",
    "    adult_content = []\n",
    "    description = []\n",
    "    instructions_flag = []\n",
    "    assignement_issuing_type = []\n",
    "    requester_id = []\n",
    "    requester_name = []\n",
    "    requester_trusted_flag = []\n",
    "    availability = []\n",
    "    post_accept_flag = []\n",
    "    training = []\n",
    "    project_stat = []\n",
    "    avg_money_hourly = []\n",
    "    pool_id = []\n",
    "    pool_started_at = []\n",
    "    reward = []\n",
    "    assignment_duration = []\n",
    "    acceptance_period = []\n",
    "    regular_subtype = []\n",
    "    \n",
    "    for i in range(len(task_dict)):\n",
    "        project_ids = task_dict[i].get('projectId')\n",
    "        adult_content_flag = task_dict[i].get('mayContainAdultContent')\n",
    "        descriptions = task_dict[i].get('description')\n",
    "        instructions_flags = task_dict[i].get('hasInstructions')\n",
    "        assignement_issuing_types = task_dict[i].get('assignmentIssuingType')\n",
    "        requester_ids = task_dict[i].get('requesterInfo', {}).get('id')\n",
    "        requester_names = task_dict[i].get('requesterInfo', {}).get('name', {}).get('EN')\n",
    "        requester_trusted_flags = task_dict[i].get('requesterInfo', {}).get('trusted')\n",
    "        availabilitys = task_dict[i].get('availability', {}).get('available')\n",
    "        post_accept_flags = task_dict[i].get('postAccept')\n",
    "        trainings = task_dict[i].get('trainingDetails', {}).get('training')\n",
    "        project_stats = task_dict[i].get('projectStats', {}).get('grade', {}).get('total_grade')\n",
    "        avg_money_hour =  task_dict[i].get('projectStats', {}).get('moneyAvgHourly')\n",
    "        pool_ids = task_dict[i].get('pools')[0].get('id')\n",
    "        pool_started_ats = task_dict[i].get('pools')[0].get('startedAt')\n",
    "        rewards = task_dict[i].get('pools')[0].get('reward')\n",
    "        assignment_durations = task_dict[i].get('pools')[0].get('assignmentMaxDurationSeconds')\n",
    "        acceptance_periods = task_dict[i].get('pools')[0].get('acceptancePeriodDays')\n",
    "        regular_subtypes = task_dict[i].get('pools')[0].get('regularSubtype')\n",
    "        \n",
    "        project_id.append(project_ids)\n",
    "        adult_content.append(adult_content_flag)\n",
    "        description.append(descriptions)\n",
    "        instructions_flag.append(instructions_flags)\n",
    "        assignement_issuing_type.append(assignement_issuing_types)\n",
    "        requester_id.append(requester_ids)\n",
    "        requester_name.append(requester_names)\n",
    "        requester_trusted_flag.append(requester_trusted_flags)\n",
    "        availability.append(availabilitys) \n",
    "        post_accept_flag.append(post_accept_flags)\n",
    "        training.append(trainings)\n",
    "        project_stat.append(project_stats)\n",
    "        avg_money_hourly.append(avg_money_hour)\n",
    "        pool_id.append(pool_ids)\n",
    "        pool_started_at.append(pool_started_ats)\n",
    "        reward.append(rewards)\n",
    "        assignment_duration.append(assignment_durations)\n",
    "        acceptance_period.append(acceptance_periods)\n",
    "        regular_subtype.append(regular_subtypes)\n",
    "    return project_id, adult_content, description, instructions_flag, assignement_issuing_type, requester_id, requester_name, requester_trusted_flag, availability, post_accept_flag, training, project_stat, avg_money_hourly, pool_id, pool_started_at, reward, assignment_duration, acceptance_period, regular_subtype"
   ]
  },
  {
   "cell_type": "code",
   "execution_count": 101,
   "id": "610f78cd",
   "metadata": {},
   "outputs": [],
   "source": [
    "project_id, adult_content, description, instructions_flag, assignement_issuing_type,requester_id, requester_name, requester_trusted_flag, availability, post_accept_flag, training, project_stat, avg_money_hourly, pool_id, pool_started_at, reward, assignment_duration, acceptance_period, regular_subtype = fetch_other_info(tasks_dictionary)"
   ]
  },
  {
   "cell_type": "code",
   "execution_count": 102,
   "id": "14832430",
   "metadata": {},
   "outputs": [
    {
     "data": {
      "text/plain": [
       "[85377, 105273, 78414, 114652]"
      ]
     },
     "execution_count": 102,
     "metadata": {},
     "output_type": "execute_result"
    }
   ],
   "source": [
    "project_id"
   ]
  },
  {
   "cell_type": "code",
   "execution_count": 103,
   "id": "1bb371df",
   "metadata": {},
   "outputs": [
    {
     "data": {
      "text/plain": [
       "[False, False, False, False]"
      ]
     },
     "execution_count": 103,
     "metadata": {},
     "output_type": "execute_result"
    }
   ],
   "source": [
    "adult_content"
   ]
  },
  {
   "cell_type": "code",
   "execution_count": 104,
   "id": "9398d857",
   "metadata": {},
   "outputs": [
    {
     "data": {
      "text/plain": [
       "['Outline a road signs in images',\n",
       " \"Take the test and get more paid tasks.\\nAfter you pass the test, you'll get access to more difficult tasks that require advanced language skills.\",\n",
       " 'In this task, you will see two product listings. The PRODUCT is a product that a user has bookmarked for \\nwhich we would like to show them. The RECOMMENDED PRODUCT offers a product we \\nmight suggest to the user. The goal of this task is to classify these recommendations into one of the \\nfollowing categories based on how closely the RECOMMENDED PRODUCT matches the PRODUCT.',\n",
       " 'Сделайте фото собаки согласно инструкции и загрузите. Перед выполнением задания внимательно ознакомьтесь с инструкцией и просмотрите примеры. Все задания проходят нашу тщательную проверку!\\nTake photos of the dog according to the instructions and upload it. Before completing the task, carefully read the instructions and view the examples. All tasks are carefully checked by us!\\n']"
      ]
     },
     "execution_count": 104,
     "metadata": {},
     "output_type": "execute_result"
    }
   ],
   "source": [
    "description"
   ]
  },
  {
   "cell_type": "code",
   "execution_count": 105,
   "id": "c71ffa7a",
   "metadata": {},
   "outputs": [
    {
     "data": {
      "text/plain": [
       "[True, True, True, True]"
      ]
     },
     "execution_count": 105,
     "metadata": {},
     "output_type": "execute_result"
    }
   ],
   "source": [
    "instructions_flag"
   ]
  },
  {
   "cell_type": "code",
   "execution_count": 106,
   "id": "bae4b4a0",
   "metadata": {},
   "outputs": [
    {
     "data": {
      "text/plain": [
       "['AUTOMATIC', 'AUTOMATIC', 'AUTOMATIC', 'AUTOMATIC']"
      ]
     },
     "execution_count": 106,
     "metadata": {},
     "output_type": "execute_result"
    }
   ],
   "source": [
    "assignement_issuing_type"
   ]
  },
  {
   "cell_type": "code",
   "execution_count": 107,
   "id": "006cc6ba",
   "metadata": {},
   "outputs": [
    {
     "data": {
      "text/plain": [
       "['a841946b60a3fc816968533af5f8b371',\n",
       " '71daea4cffae4488067aebfb6583914a',\n",
       " 'dbaa749ed83b3ef412a3167f6c53c363',\n",
       " '631b832d247a0b9add115fb0a8346e6f']"
      ]
     },
     "execution_count": 107,
     "metadata": {},
     "output_type": "execute_result"
    }
   ],
   "source": [
    "requester_id"
   ]
  },
  {
   "cell_type": "code",
   "execution_count": 108,
   "id": "f3a5abcb",
   "metadata": {},
   "outputs": [
    {
     "data": {
      "text/plain": [
       "['michaelyuyangtong', 'Toloka', 'ADE4PA', 'NtechLab']"
      ]
     },
     "execution_count": 108,
     "metadata": {},
     "output_type": "execute_result"
    }
   ],
   "source": [
    "requester_name"
   ]
  },
  {
   "cell_type": "code",
   "execution_count": 109,
   "id": "b107ce73",
   "metadata": {},
   "outputs": [
    {
     "data": {
      "text/plain": [
       "[False, False, False, False]"
      ]
     },
     "execution_count": 109,
     "metadata": {},
     "output_type": "execute_result"
    }
   ],
   "source": [
    "requester_trusted_flag"
   ]
  },
  {
   "cell_type": "code",
   "execution_count": 110,
   "id": "cd341f62",
   "metadata": {},
   "outputs": [
    {
     "data": {
      "text/plain": [
       "[True, True, True, True]"
      ]
     },
     "execution_count": 110,
     "metadata": {},
     "output_type": "execute_result"
    }
   ],
   "source": [
    "availability"
   ]
  },
  {
   "cell_type": "code",
   "execution_count": 111,
   "id": "8e97ca10",
   "metadata": {},
   "outputs": [
    {
     "data": {
      "text/plain": [
       "[True, False, False, True]"
      ]
     },
     "execution_count": 111,
     "metadata": {},
     "output_type": "execute_result"
    }
   ],
   "source": [
    "post_accept_flag"
   ]
  },
  {
   "cell_type": "code",
   "execution_count": 112,
   "id": "0fee932a",
   "metadata": {},
   "outputs": [
    {
     "data": {
      "text/plain": [
       "[False, False, True, False]"
      ]
     },
     "execution_count": 112,
     "metadata": {},
     "output_type": "execute_result"
    }
   ],
   "source": [
    "training"
   ]
  },
  {
   "cell_type": "code",
   "execution_count": 113,
   "id": "90da9892",
   "metadata": {},
   "outputs": [
    {
     "data": {
      "text/plain": [
       "[1.84, 4.62, 4.34, None]"
      ]
     },
     "execution_count": 113,
     "metadata": {},
     "output_type": "execute_result"
    }
   ],
   "source": [
    "project_stat"
   ]
  },
  {
   "cell_type": "code",
   "execution_count": 114,
   "id": "9fa6a191",
   "metadata": {},
   "outputs": [
    {
     "data": {
      "text/plain": [
       "[32474078, 36185755, 35838995, 36088797]"
      ]
     },
     "execution_count": 114,
     "metadata": {},
     "output_type": "execute_result"
    }
   ],
   "source": [
    "pool_id"
   ]
  },
  {
   "cell_type": "code",
   "execution_count": 115,
   "id": "bd2689c6",
   "metadata": {},
   "outputs": [
    {
     "data": {
      "text/plain": [
       "['2022-03-20T11:29:40.108',\n",
       " '2022-11-03T19:07:12.911',\n",
       " '2022-10-11T23:36:03.957',\n",
       " '2022-11-10T12:00:54.397']"
      ]
     },
     "execution_count": 115,
     "metadata": {},
     "output_type": "execute_result"
    }
   ],
   "source": [
    "pool_started_at"
   ]
  },
  {
   "cell_type": "code",
   "execution_count": 116,
   "id": "d2e1df96",
   "metadata": {},
   "outputs": [
    {
     "data": {
      "text/plain": [
       "['0.010', '0.000', '0.000', '0.500']"
      ]
     },
     "execution_count": 116,
     "metadata": {},
     "output_type": "execute_result"
    }
   ],
   "source": [
    "reward"
   ]
  },
  {
   "cell_type": "code",
   "execution_count": 117,
   "id": "81c356b4",
   "metadata": {},
   "outputs": [
    {
     "data": {
      "text/plain": [
       "[300, 900, 120, 600000]"
      ]
     },
     "execution_count": 117,
     "metadata": {},
     "output_type": "execute_result"
    }
   ],
   "source": [
    "assignment_duration"
   ]
  },
  {
   "cell_type": "code",
   "execution_count": 118,
   "id": "8d159fdd",
   "metadata": {},
   "outputs": [
    {
     "data": {
      "text/plain": [
       "[7, None, None, 7]"
      ]
     },
     "execution_count": 118,
     "metadata": {},
     "output_type": "execute_result"
    }
   ],
   "source": [
    "acceptance_period"
   ]
  },
  {
   "cell_type": "code",
   "execution_count": 119,
   "id": "1f627083",
   "metadata": {},
   "outputs": [
    {
     "data": {
      "text/plain": [
       "[None, 'EXAM', None, None]"
      ]
     },
     "execution_count": 119,
     "metadata": {},
     "output_type": "execute_result"
    }
   ],
   "source": [
    "regular_subtype"
   ]
  },
  {
   "cell_type": "code",
   "execution_count": null,
   "id": "acf42a4d",
   "metadata": {},
   "outputs": [],
   "source": [
    "avg_money_hourly"
   ]
  },
  {
   "cell_type": "markdown",
   "id": "42a866ae",
   "metadata": {},
   "source": [
    "### Storing the above tasks related information in a DataFrame"
   ]
  },
  {
   "cell_type": "code",
   "execution_count": 126,
   "id": "9efa6ef2",
   "metadata": {},
   "outputs": [],
   "source": [
    "task_data = pd.DataFrame({\"title\": list_of_tasks, \"project_id\": project_id, \"adult_content\": adult_content, \"description\": description, \"instructions_flag\": instructions_flag, \"assignment_issuing_type\": assignement_issuing_type, \"requester_id\": requester_id, \"requester_name\": requester_name, \"requester_trusted_flag\": requester_trusted_flag, \"availability\": availability, \"post_accept_flag\": post_accept_flag, \"training\": training, \"project_stat\": project_stat, \"avg_money_hourly\": avg_money_hourly, \"pool_id\": pool_id, \"pool_started_at\": pool_started_at, \"reward\": reward, \"assignment_duration\": assignment_duration, \"acceptance_period\": acceptance_period, \"regular_subtype\": regular_subtype})"
   ]
  },
  {
   "cell_type": "code",
   "execution_count": 127,
   "id": "462a31f6",
   "metadata": {},
   "outputs": [
    {
     "data": {
      "text/html": [
       "<div>\n",
       "<style scoped>\n",
       "    .dataframe tbody tr th:only-of-type {\n",
       "        vertical-align: middle;\n",
       "    }\n",
       "\n",
       "    .dataframe tbody tr th {\n",
       "        vertical-align: top;\n",
       "    }\n",
       "\n",
       "    .dataframe thead th {\n",
       "        text-align: right;\n",
       "    }\n",
       "</style>\n",
       "<table border=\"1\" class=\"dataframe\">\n",
       "  <thead>\n",
       "    <tr style=\"text-align: right;\">\n",
       "      <th></th>\n",
       "      <th>title</th>\n",
       "      <th>project_id</th>\n",
       "      <th>adult_content</th>\n",
       "      <th>description</th>\n",
       "      <th>instructions_flag</th>\n",
       "      <th>assignment_issuing_type</th>\n",
       "      <th>requester_id</th>\n",
       "      <th>requester_name</th>\n",
       "      <th>requester_trusted_flag</th>\n",
       "      <th>availability</th>\n",
       "      <th>post_accept_flag</th>\n",
       "      <th>training</th>\n",
       "      <th>project_stat</th>\n",
       "      <th>pool_id</th>\n",
       "      <th>pool_started_at</th>\n",
       "      <th>reward</th>\n",
       "      <th>assignment_duration</th>\n",
       "      <th>acceptance_period</th>\n",
       "      <th>regular_subtype</th>\n",
       "    </tr>\n",
       "  </thead>\n",
       "  <tbody>\n",
       "    <tr>\n",
       "      <th>0</th>\n",
       "      <td>Object recognition &amp; detection</td>\n",
       "      <td>85377</td>\n",
       "      <td>False</td>\n",
       "      <td>Outline a road signs in images</td>\n",
       "      <td>True</td>\n",
       "      <td>AUTOMATIC</td>\n",
       "      <td>a841946b60a3fc816968533af5f8b371</td>\n",
       "      <td>michaelyuyangtong</td>\n",
       "      <td>False</td>\n",
       "      <td>True</td>\n",
       "      <td>True</td>\n",
       "      <td>False</td>\n",
       "      <td>1.84</td>\n",
       "      <td>32474078</td>\n",
       "      <td>2022-03-20T11:29:40.108</td>\n",
       "      <td>0.010</td>\n",
       "      <td>300</td>\n",
       "      <td>7.0</td>\n",
       "      <td>None</td>\n",
       "    </tr>\n",
       "    <tr>\n",
       "      <th>1</th>\n",
       "      <td>[Toloka] English Grammar Test</td>\n",
       "      <td>105273</td>\n",
       "      <td>False</td>\n",
       "      <td>Take the test and get more paid tasks.\\nAfter ...</td>\n",
       "      <td>True</td>\n",
       "      <td>AUTOMATIC</td>\n",
       "      <td>71daea4cffae4488067aebfb6583914a</td>\n",
       "      <td>Toloka</td>\n",
       "      <td>False</td>\n",
       "      <td>True</td>\n",
       "      <td>False</td>\n",
       "      <td>False</td>\n",
       "      <td>4.62</td>\n",
       "      <td>36185755</td>\n",
       "      <td>2022-11-03T19:07:12.911</td>\n",
       "      <td>0.000</td>\n",
       "      <td>900</td>\n",
       "      <td>NaN</td>\n",
       "      <td>EXAM</td>\n",
       "    </tr>\n",
       "    <tr>\n",
       "      <th>2</th>\n",
       "      <td>Check the similarity between two products</td>\n",
       "      <td>78414</td>\n",
       "      <td>False</td>\n",
       "      <td>In this task, you will see two product listing...</td>\n",
       "      <td>True</td>\n",
       "      <td>AUTOMATIC</td>\n",
       "      <td>dbaa749ed83b3ef412a3167f6c53c363</td>\n",
       "      <td>ADE4PA</td>\n",
       "      <td>False</td>\n",
       "      <td>True</td>\n",
       "      <td>False</td>\n",
       "      <td>True</td>\n",
       "      <td>4.34</td>\n",
       "      <td>35838995</td>\n",
       "      <td>2022-10-11T23:36:03.957</td>\n",
       "      <td>0.000</td>\n",
       "      <td>120</td>\n",
       "      <td>NaN</td>\n",
       "      <td>None</td>\n",
       "    </tr>\n",
       "    <tr>\n",
       "      <th>3</th>\n",
       "      <td>Сделайте  и загрузите фото собаки/Take and upl...</td>\n",
       "      <td>114652</td>\n",
       "      <td>False</td>\n",
       "      <td>Сделайте фото собаки согласно инструкции и заг...</td>\n",
       "      <td>True</td>\n",
       "      <td>AUTOMATIC</td>\n",
       "      <td>631b832d247a0b9add115fb0a8346e6f</td>\n",
       "      <td>NtechLab</td>\n",
       "      <td>False</td>\n",
       "      <td>True</td>\n",
       "      <td>True</td>\n",
       "      <td>False</td>\n",
       "      <td>NaN</td>\n",
       "      <td>36088797</td>\n",
       "      <td>2022-11-10T12:00:54.397</td>\n",
       "      <td>0.500</td>\n",
       "      <td>600000</td>\n",
       "      <td>7.0</td>\n",
       "      <td>None</td>\n",
       "    </tr>\n",
       "  </tbody>\n",
       "</table>\n",
       "</div>"
      ],
      "text/plain": [
       "                                               title  project_id  \\\n",
       "0                     Object recognition & detection       85377   \n",
       "1                      [Toloka] English Grammar Test      105273   \n",
       "2          Check the similarity between two products       78414   \n",
       "3  Сделайте  и загрузите фото собаки/Take and upl...      114652   \n",
       "\n",
       "   adult_content                                        description  \\\n",
       "0          False                     Outline a road signs in images   \n",
       "1          False  Take the test and get more paid tasks.\\nAfter ...   \n",
       "2          False  In this task, you will see two product listing...   \n",
       "3          False  Сделайте фото собаки согласно инструкции и заг...   \n",
       "\n",
       "   instructions_flag assignment_issuing_type  \\\n",
       "0               True               AUTOMATIC   \n",
       "1               True               AUTOMATIC   \n",
       "2               True               AUTOMATIC   \n",
       "3               True               AUTOMATIC   \n",
       "\n",
       "                       requester_id     requester_name  \\\n",
       "0  a841946b60a3fc816968533af5f8b371  michaelyuyangtong   \n",
       "1  71daea4cffae4488067aebfb6583914a             Toloka   \n",
       "2  dbaa749ed83b3ef412a3167f6c53c363             ADE4PA   \n",
       "3  631b832d247a0b9add115fb0a8346e6f           NtechLab   \n",
       "\n",
       "   requester_trusted_flag  availability  post_accept_flag  training  \\\n",
       "0                   False          True              True     False   \n",
       "1                   False          True             False     False   \n",
       "2                   False          True             False      True   \n",
       "3                   False          True              True     False   \n",
       "\n",
       "   project_stat   pool_id          pool_started_at reward  \\\n",
       "0          1.84  32474078  2022-03-20T11:29:40.108  0.010   \n",
       "1          4.62  36185755  2022-11-03T19:07:12.911  0.000   \n",
       "2          4.34  35838995  2022-10-11T23:36:03.957  0.000   \n",
       "3           NaN  36088797  2022-11-10T12:00:54.397  0.500   \n",
       "\n",
       "   assignment_duration  acceptance_period regular_subtype  \n",
       "0                  300                7.0            None  \n",
       "1                  900                NaN            EXAM  \n",
       "2                  120                NaN            None  \n",
       "3               600000                7.0            None  "
      ]
     },
     "execution_count": 127,
     "metadata": {},
     "output_type": "execute_result"
    }
   ],
   "source": [
    "task_data"
   ]
  },
  {
   "cell_type": "markdown",
   "id": "49d7113d",
   "metadata": {},
   "source": [
    "## Fetching User related content from Toloka"
   ]
  },
  {
   "cell_type": "code",
   "execution_count": 8,
   "id": "6d0bb64a",
   "metadata": {},
   "outputs": [],
   "source": [
    "tolokaUserEndpoint = \"https://toloka.yandex.com/api/users/current/worker\"\n",
    "head2 = {'Authorization': 'OAuth {}'.format(myToken)}\n",
    "poolsres2 = requests.get(tolokaUserEndpoint, headers=head2)"
   ]
  },
  {
   "cell_type": "code",
   "execution_count": 9,
   "id": "09984b36",
   "metadata": {},
   "outputs": [],
   "source": [
    "# storing the fetched content into variable 'user_content'\n",
    "user_content = poolsres2.json()"
   ]
  },
  {
   "cell_type": "code",
   "execution_count": 10,
   "id": "46f59ce9",
   "metadata": {},
   "outputs": [
    {
     "name": "stdout",
     "output_type": "stream",
     "text": [
      "{'uid': 1685129673, 'login': 'mitanshi', 'role': 'WORKER', 'userLang': 'EN', 'defaultEmail': 'mitanshi@yandex.com', 'connectionId': 't:3470263886', 'authorizationStatus': 'VALID', 'avatarId': '0/0-0', 'displayName': 'mitanshi', 'fullName': 'Mitanshi Vyas', 'firstName': 'Mitanshi', 'lastName': 'Vyas', 'isAccountOwner': True, 'actualUser': {'uid': 1685129673, 'idpAlias': 'YANDEX_ID_LEGACY', 'idpIdentity': '1685129673', 'enterpriseSsoIdpAlias': False, 'login': 'mitanshi', 'role': 'WORKER', 'userLang': 'EN', 'defaultEmail': 'mitanshi@yandex.com', 'displayName': 'mitanshi', 'readOnlyModeToActUnderAccount': False}, 'availableAccounts': [], 'createdDate': '2022-09-09', 'systemBan': False, 'birthDay': '1999-07-10', 'country': 'US', 'languages': ['EN'], 'adultAllowed': False, 'acceptedEula': 13, 'rating': 0, 'authoritiesInfo': {'issuedAuthorities': ['U_TRANSACTIONS_CREATE', 'APP', 'U_ASSIGNMENTS_SUBMIT', 'U_MESSAGES_VIEW', 'U_ASSIGNMENTS_HISTORY', 'APP_USER', 'U_FORUM_EDIT', 'U_ASSIGNMENTS_UNDERTAKE', 'U_PROFILE_VIEW', 'U_FORUM_VIEW', 'U_MESSAGES_CREATE', 'U_ASSIGNMENTS_VIEW', 'U_TRANSACTIONS_VIEW', 'U_WALLETS_EDIT', 'U_PROFILE_EDIT'], 'notIssuedAuthoritiesReasons': {}}, 'balance': '0.000', 'blockedBalance': '0.000', 'regionId': 29338}\n"
     ]
    }
   ],
   "source": [
    "print(user_content)"
   ]
  },
  {
   "cell_type": "code",
   "execution_count": 11,
   "id": "3eb740c7",
   "metadata": {},
   "outputs": [
    {
     "data": {
      "text/plain": [
       "dict"
      ]
     },
     "execution_count": 11,
     "metadata": {},
     "output_type": "execute_result"
    }
   ],
   "source": [
    "type(user_content)"
   ]
  },
  {
   "cell_type": "code",
   "execution_count": 115,
   "id": "a40d15de",
   "metadata": {},
   "outputs": [],
   "source": [
    "def fetch_user_info(user_dict):\n",
    "    user_id = []\n",
    "    role = []\n",
    "    user_language = []\n",
    "    default_email = []\n",
    "    connection_id = []\n",
    "    full_name = []\n",
    "    birth_day = []\n",
    "    country = []\n",
    "    \n",
    "    user_ids = user_dict.get('uid')\n",
    "    roles = user_dict.get('role')\n",
    "    user_languages = user_dict.get('userLang')\n",
    "    default_emails = user_dict.get('defaultEmail')\n",
    "    connection_ids = user_dict.get('connectionId')\n",
    "    full_names = user_dict.get('fullName')\n",
    "    birth_days = user_dict.get('birthDay')\n",
    "    countrys = user_dict.get('country')\n",
    "    \n",
    "    user_id.append(user_ids)\n",
    "    role.append(roles)\n",
    "    user_language.append(user_languages)\n",
    "    default_email.append(default_emails)\n",
    "    connection_id.append(connection_ids)\n",
    "    full_name.append(full_names)\n",
    "    birth_day.append(birth_days)\n",
    "    country.append(countrys)\n",
    "    return user_id, role, user_language, default_email, connection_id, full_name, birth_day, country"
   ]
  },
  {
   "cell_type": "code",
   "execution_count": 116,
   "id": "48bc44a8",
   "metadata": {},
   "outputs": [],
   "source": [
    "user_id, role, user_language, default_email, connection_id, full_name, birth_day, country = fetch_user_info(user_content)"
   ]
  },
  {
   "cell_type": "code",
   "execution_count": 25,
   "id": "1b6df8ef",
   "metadata": {},
   "outputs": [
    {
     "data": {
      "text/plain": [
       "[1685129673]"
      ]
     },
     "execution_count": 25,
     "metadata": {},
     "output_type": "execute_result"
    }
   ],
   "source": [
    "user_id"
   ]
  },
  {
   "cell_type": "code",
   "execution_count": 26,
   "id": "aa0543c3",
   "metadata": {},
   "outputs": [
    {
     "data": {
      "text/plain": [
       "['WORKER']"
      ]
     },
     "execution_count": 26,
     "metadata": {},
     "output_type": "execute_result"
    }
   ],
   "source": [
    "role"
   ]
  },
  {
   "cell_type": "code",
   "execution_count": 27,
   "id": "16b1bf98",
   "metadata": {},
   "outputs": [
    {
     "data": {
      "text/plain": [
       "['EN']"
      ]
     },
     "execution_count": 27,
     "metadata": {},
     "output_type": "execute_result"
    }
   ],
   "source": [
    "user_language"
   ]
  },
  {
   "cell_type": "code",
   "execution_count": 28,
   "id": "355771d3",
   "metadata": {},
   "outputs": [
    {
     "data": {
      "text/plain": [
       "['mitanshi@yandex.com']"
      ]
     },
     "execution_count": 28,
     "metadata": {},
     "output_type": "execute_result"
    }
   ],
   "source": [
    "default_email"
   ]
  },
  {
   "cell_type": "code",
   "execution_count": 29,
   "id": "2ca77b79",
   "metadata": {},
   "outputs": [
    {
     "data": {
      "text/plain": [
       "['t:3470263886']"
      ]
     },
     "execution_count": 29,
     "metadata": {},
     "output_type": "execute_result"
    }
   ],
   "source": [
    "connection_id"
   ]
  },
  {
   "cell_type": "code",
   "execution_count": 30,
   "id": "675ddf57",
   "metadata": {},
   "outputs": [
    {
     "data": {
      "text/plain": [
       "['Mitanshi Vyas']"
      ]
     },
     "execution_count": 30,
     "metadata": {},
     "output_type": "execute_result"
    }
   ],
   "source": [
    "full_name"
   ]
  },
  {
   "cell_type": "code",
   "execution_count": 31,
   "id": "ccbe4356",
   "metadata": {},
   "outputs": [
    {
     "data": {
      "text/plain": [
       "['1999-07-10']"
      ]
     },
     "execution_count": 31,
     "metadata": {},
     "output_type": "execute_result"
    }
   ],
   "source": [
    "birth_day"
   ]
  },
  {
   "cell_type": "code",
   "execution_count": 32,
   "id": "1d4e7f62",
   "metadata": {},
   "outputs": [
    {
     "data": {
      "text/plain": [
       "['US']"
      ]
     },
     "execution_count": 32,
     "metadata": {},
     "output_type": "execute_result"
    }
   ],
   "source": [
    "country"
   ]
  },
  {
   "cell_type": "code",
   "execution_count": 33,
   "id": "9d41c850",
   "metadata": {},
   "outputs": [],
   "source": [
    "user_data = pd.DataFrame({\"user_id\": user_id, \"role\": role, \"user_language\": user_language, \"default_email\": default_email, \"connection_id\": connection_id, \"full_name\": full_name, \"birth_day\": birth_day, \"country\": country})"
   ]
  },
  {
   "cell_type": "code",
   "execution_count": 34,
   "id": "ae2e07ee",
   "metadata": {},
   "outputs": [
    {
     "data": {
      "text/html": [
       "<div>\n",
       "<style scoped>\n",
       "    .dataframe tbody tr th:only-of-type {\n",
       "        vertical-align: middle;\n",
       "    }\n",
       "\n",
       "    .dataframe tbody tr th {\n",
       "        vertical-align: top;\n",
       "    }\n",
       "\n",
       "    .dataframe thead th {\n",
       "        text-align: right;\n",
       "    }\n",
       "</style>\n",
       "<table border=\"1\" class=\"dataframe\">\n",
       "  <thead>\n",
       "    <tr style=\"text-align: right;\">\n",
       "      <th></th>\n",
       "      <th>user_id</th>\n",
       "      <th>role</th>\n",
       "      <th>user_language</th>\n",
       "      <th>default_email</th>\n",
       "      <th>connection_id</th>\n",
       "      <th>full_name</th>\n",
       "      <th>birth_day</th>\n",
       "      <th>country</th>\n",
       "    </tr>\n",
       "  </thead>\n",
       "  <tbody>\n",
       "    <tr>\n",
       "      <th>0</th>\n",
       "      <td>1685129673</td>\n",
       "      <td>WORKER</td>\n",
       "      <td>EN</td>\n",
       "      <td>mitanshi@yandex.com</td>\n",
       "      <td>t:3470263886</td>\n",
       "      <td>Mitanshi Vyas</td>\n",
       "      <td>1999-07-10</td>\n",
       "      <td>US</td>\n",
       "    </tr>\n",
       "  </tbody>\n",
       "</table>\n",
       "</div>"
      ],
      "text/plain": [
       "      user_id    role user_language        default_email connection_id  \\\n",
       "0  1685129673  WORKER            EN  mitanshi@yandex.com  t:3470263886   \n",
       "\n",
       "       full_name   birth_day country  \n",
       "0  Mitanshi Vyas  1999-07-10      US  "
      ]
     },
     "execution_count": 34,
     "metadata": {},
     "output_type": "execute_result"
    }
   ],
   "source": [
    "user_data"
   ]
  },
  {
   "cell_type": "markdown",
   "id": "44aa03f3",
   "metadata": {},
   "source": [
    "## Fetching Task Reciept related content from Toloka"
   ]
  },
  {
   "cell_type": "code",
   "execution_count": 39,
   "id": "d9f9aef7",
   "metadata": {},
   "outputs": [],
   "source": [
    "tolokaIncomeLogEndpoint = \"https://toloka.yandex.com/api/worker/finance/income-log\"\n",
    "head3 = {'Authorization': 'OAuth {}'.format(myToken)}\n",
    "poolsres3 = requests.get(tolokaIncomeLogEndpoint, headers=head3)"
   ]
  },
  {
   "cell_type": "code",
   "execution_count": 40,
   "id": "77198548",
   "metadata": {},
   "outputs": [],
   "source": [
    "# storing the fetched content into variable 'user_content'\n",
    "income_content = poolsres3.json()"
   ]
  },
  {
   "cell_type": "code",
   "execution_count": 41,
   "id": "66fbc74b",
   "metadata": {},
   "outputs": [
    {
     "name": "stdout",
     "output_type": "stream",
     "text": [
      "[{'date': '2022-10-05', 'assignments': [{'date': '2022-10-05', 'requester': {'login': 'idrnd.inc', 'id': 'c69b008e44d038469bf39335173dce31', 'name': {'EN': 'ID R&D Inc'}, 'role': 'REQUESTER'}, 'project': {'id': 105540, 'name': 'Take a picture of your face on a webcam'}, 'income': '0.000', 'totalIncome': '0.000', 'blockedIncome': '0.000', 'detalizationMode': 'PROJECT', 'additionalReward': '0.000', 'additionalRewardTolokaFee': '0.000'}]}, {'date': '2022-10-18', 'assignments': [{'date': '2022-10-18', 'requester': {'login': 'ADE4PA', 'id': 'dbaa749ed83b3ef412a3167f6c53c363', 'name': {'EN': 'ADE4PA'}, 'role': 'REQUESTER'}, 'project': {'id': 78414, 'lang': 'EN', 'name': 'Check the similarity between two products'}, 'income': '0.000', 'totalIncome': '0.000', 'blockedIncome': '0.000', 'detalizationMode': 'PROJECT', 'additionalReward': '0.000', 'additionalRewardTolokaFee': '0.000'}, {'date': '2022-10-18', 'requester': {'login': 'zen-yndx', 'id': '71daea4cffae4488067aebfb6583914a', 'name': {'EN': 'Toloka'}, 'role': 'REQUESTER'}, 'project': {'id': 50751, 'lang': 'EN', 'name': '[Toloka] English Comprehension Test'}, 'income': '0.000', 'totalIncome': '0.000', 'blockedIncome': '0.000', 'detalizationMode': 'PROJECT', 'additionalReward': '0.000', 'additionalRewardTolokaFee': '0.000'}]}]\n"
     ]
    }
   ],
   "source": [
    "print(income_content)"
   ]
  },
  {
   "cell_type": "code",
   "execution_count": 38,
   "id": "ef7f3bad",
   "metadata": {},
   "outputs": [
    {
     "data": {
      "text/plain": [
       "dict"
      ]
     },
     "execution_count": 38,
     "metadata": {},
     "output_type": "execute_result"
    }
   ],
   "source": [
    "type(income_content)"
   ]
  },
  {
   "cell_type": "code",
   "execution_count": 49,
   "id": "4a0063b1",
   "metadata": {},
   "outputs": [
    {
     "data": {
      "text/plain": [
       "{'date': '2022-10-05',\n",
       " 'assignments': [{'date': '2022-10-05',\n",
       "   'requester': {'login': 'idrnd.inc',\n",
       "    'id': 'c69b008e44d038469bf39335173dce31',\n",
       "    'name': {'EN': 'ID R&D Inc'},\n",
       "    'role': 'REQUESTER'},\n",
       "   'project': {'id': 105540,\n",
       "    'name': 'Take a picture of your face on a webcam'},\n",
       "   'income': '0.000',\n",
       "   'totalIncome': '0.000',\n",
       "   'blockedIncome': '0.000',\n",
       "   'detalizationMode': 'PROJECT',\n",
       "   'additionalReward': '0.000',\n",
       "   'additionalRewardTolokaFee': '0.000'}]}"
      ]
     },
     "execution_count": 49,
     "metadata": {},
     "output_type": "execute_result"
    }
   ],
   "source": [
    "income_content[0]"
   ]
  },
  {
   "cell_type": "code",
   "execution_count": 92,
   "id": "045c8ce2",
   "metadata": {},
   "outputs": [
    {
     "data": {
      "text/plain": [
       "'2022-10-05'"
      ]
     },
     "execution_count": 92,
     "metadata": {},
     "output_type": "execute_result"
    }
   ],
   "source": [
    "(income_content[0].get('assignments'))[0].get('date')"
   ]
  },
  {
   "cell_type": "markdown",
   "id": "198de4fb",
   "metadata": {},
   "source": [
    "## Fetching Income related content from Toloka"
   ]
  },
  {
   "cell_type": "code",
   "execution_count": 102,
   "id": "baf9b2e5",
   "metadata": {},
   "outputs": [],
   "source": [
    "def fetch_income_info(income_dict):\n",
    "    project_id = []\n",
    "    title = []\n",
    "    date = []\n",
    "    \n",
    "    for i in range(len(income_dict)):\n",
    "        project_ids = income_dict[i].get('assignments')[0].get('project', {}).get('id')\n",
    "        dates = income_dict[i].get('date')\n",
    "        titles =  income_dict[i].get('assignments')[0].get('project', {}).get('name')\n",
    "        \n",
    "        project_id.append(project_ids)\n",
    "        date.append(dates)\n",
    "        title.append(titles)\n",
    "    \n",
    "    return project_id, date, title"
   ]
  },
  {
   "cell_type": "code",
   "execution_count": 103,
   "id": "f4e46f56",
   "metadata": {},
   "outputs": [],
   "source": [
    "project_id, date, title = fetch_income_info(income_content)"
   ]
  },
  {
   "cell_type": "code",
   "execution_count": 104,
   "id": "f2f51285",
   "metadata": {},
   "outputs": [
    {
     "data": {
      "text/plain": [
       "[105540, 78414]"
      ]
     },
     "execution_count": 104,
     "metadata": {},
     "output_type": "execute_result"
    }
   ],
   "source": [
    "project_id"
   ]
  },
  {
   "cell_type": "code",
   "execution_count": 105,
   "id": "4d215adc",
   "metadata": {},
   "outputs": [
    {
     "data": {
      "text/plain": [
       "['2022-10-05', '2022-10-18']"
      ]
     },
     "execution_count": 105,
     "metadata": {},
     "output_type": "execute_result"
    }
   ],
   "source": [
    "date"
   ]
  },
  {
   "cell_type": "code",
   "execution_count": 106,
   "id": "7fbd5bc3",
   "metadata": {},
   "outputs": [
    {
     "data": {
      "text/plain": [
       "['Take a picture of your face on a webcam',\n",
       " 'Check the similarity between two products']"
      ]
     },
     "execution_count": 106,
     "metadata": {},
     "output_type": "execute_result"
    }
   ],
   "source": [
    "title"
   ]
  },
  {
   "cell_type": "code",
   "execution_count": 118,
   "id": "10bf24e5",
   "metadata": {},
   "outputs": [],
   "source": [
    "user_id = [user_id[0]]*len(title)"
   ]
  },
  {
   "cell_type": "code",
   "execution_count": 120,
   "id": "13ef05b4",
   "metadata": {},
   "outputs": [],
   "source": [
    "income_data = pd.DataFrame({\"user_id\": user_id, \"project_id\": project_id, \"date\": date, \"title\": title})"
   ]
  },
  {
   "cell_type": "code",
   "execution_count": 121,
   "id": "c5b63c48",
   "metadata": {},
   "outputs": [
    {
     "data": {
      "text/html": [
       "<div>\n",
       "<style scoped>\n",
       "    .dataframe tbody tr th:only-of-type {\n",
       "        vertical-align: middle;\n",
       "    }\n",
       "\n",
       "    .dataframe tbody tr th {\n",
       "        vertical-align: top;\n",
       "    }\n",
       "\n",
       "    .dataframe thead th {\n",
       "        text-align: right;\n",
       "    }\n",
       "</style>\n",
       "<table border=\"1\" class=\"dataframe\">\n",
       "  <thead>\n",
       "    <tr style=\"text-align: right;\">\n",
       "      <th></th>\n",
       "      <th>user_id</th>\n",
       "      <th>project_id</th>\n",
       "      <th>date</th>\n",
       "      <th>title</th>\n",
       "    </tr>\n",
       "  </thead>\n",
       "  <tbody>\n",
       "    <tr>\n",
       "      <th>0</th>\n",
       "      <td>1685129673</td>\n",
       "      <td>105540</td>\n",
       "      <td>2022-10-05</td>\n",
       "      <td>Take a picture of your face on a webcam</td>\n",
       "    </tr>\n",
       "    <tr>\n",
       "      <th>1</th>\n",
       "      <td>1685129673</td>\n",
       "      <td>78414</td>\n",
       "      <td>2022-10-18</td>\n",
       "      <td>Check the similarity between two products</td>\n",
       "    </tr>\n",
       "  </tbody>\n",
       "</table>\n",
       "</div>"
      ],
      "text/plain": [
       "      user_id  project_id        date  \\\n",
       "0  1685129673      105540  2022-10-05   \n",
       "1  1685129673       78414  2022-10-18   \n",
       "\n",
       "                                       title  \n",
       "0    Take a picture of your face on a webcam  \n",
       "1  Check the similarity between two products  "
      ]
     },
     "execution_count": 121,
     "metadata": {},
     "output_type": "execute_result"
    }
   ],
   "source": [
    "income_data"
   ]
  },
  {
   "cell_type": "markdown",
   "id": "00013aa4",
   "metadata": {},
   "source": [
    "## Fetching Log Activity related content from Toloka"
   ]
  },
  {
   "cell_type": "code",
   "execution_count": 122,
   "id": "e97d4df6",
   "metadata": {},
   "outputs": [],
   "source": [
    "tolokaNewTasksEndpoint = \"https://toloka.yandex.com/api/task-suite-pool-groups?userLangs=EN\"\n",
    "head4 = {'Authorization': 'OAuth {}'.format(myToken)}\n",
    "poolsres4 = requests.get(tolokaNewTasksEndpoint, headers=head4)"
   ]
  },
  {
   "cell_type": "code",
   "execution_count": 123,
   "id": "46d1ca03",
   "metadata": {},
   "outputs": [],
   "source": [
    "# storing the fetched content into variable 'user_content'\n",
    "log_content = poolsres4.json()"
   ]
  },
  {
   "cell_type": "code",
   "execution_count": 124,
   "id": "60d814ea",
   "metadata": {},
   "outputs": [
    {
     "name": "stdout",
     "output_type": "stream",
     "text": [
      "[{'refUuid': 'e80c5cc5-0bf9-4c2d-9024-a4eafd605f52', 'groupUuid': 'ef8f2175-1225-47d4-93fc-3f673904dce5', 'projectId': 114652, 'mayContainAdultContent': False, 'lang': 'RU', 'title': 'Сделайте  и загрузите фото собаки/Take and upload photos of a dog', 'description': 'Сделайте фото собаки согласно инструкции и загрузите. Перед выполнением задания внимательно ознакомьтесь с инструкцией и просмотрите примеры. Все задания проходят нашу тщательную проверку!\\nTake photos of the dog according to the instructions and upload it. Before completing the task, carefully read the instructions and view the examples. All tasks are carefully checked by us!\\n', 'hasInstructions': True, 'snapshotMajorVersion': 4, 'snapshotMinorVersion': 10, 'snapshotMajorVersionActual': True, 'assignmentIssuingType': 'AUTOMATIC', 'requesterInfo': {'id': '631b832d247a0b9add115fb0a8346e6f', 'name': {'EN': 'NtechLab'}, 'trusted': False}, 'availability': {'available': True}, 'postAccept': True, 'iframeSubdomain': '631b832d247a0b9add115fb0a8346e6f', 'trainingDetails': {'training': False}, 'projectStats': {'acceptanceRate': 20, 'averageAcceptanceTimeSec': 246447, 'averageSubmitTimeSec': 48659, 'moneyAvgHourly': 0.03699216, 'moneyAvg': 0.25, 'moneyMed': 0.18, 'moneyTop10': 0.35, 'moneyMax3': 0.35}, 'pools': [{'id': 36088797, 'startedAt': '2022-11-10T12:00:54.397', 'reward': '0.500', 'assignmentMaxDurationSeconds': 600000, 'acceptancePeriodDays': 7}], 'projectMetaInfo': {'projectId': 114652, 'experimentMeta': {'dj_task_duration__snippet__duration_more_than_five_mins': '1', 'dj_project_class__snippet__user_content': '1', 'dj_project_tag__requester_type__snippet__experienced_requester': '1'}}}, {'refUuid': 'e80c5cc5-0bf9-4c2d-9024-a4eafd605f52', 'groupUuid': '7e573525-763e-45a4-a195-e748f01e12c7', 'projectId': 105273, 'mayContainAdultContent': False, 'lang': 'EN', 'title': '[Toloka] English Grammar Test', 'description': \"Take the test and get more paid tasks.\\nAfter you pass the test, you'll get access to more difficult tasks that require advanced language skills.\", 'hasInstructions': True, 'snapshotMajorVersion': 1, 'snapshotMinorVersion': 1, 'snapshotMajorVersionActual': True, 'assignmentIssuingType': 'AUTOMATIC', 'requesterInfo': {'id': '71daea4cffae4488067aebfb6583914a', 'name': {'EN': 'Toloka'}, 'trusted': False}, 'availability': {'available': True}, 'postAccept': False, 'iframeSubdomain': '71daea4cffae4488067aebfb6583914a', 'trainingDetails': {'training': False}, 'projectStats': {'grade': {'total_grade': 4.8}, 'averageSubmitTimeSec': 318, 'moneyAvgHourly': 0.0}, 'pools': [{'id': 36185755, 'startedAt': '2022-11-03T19:07:12.911', 'reward': '0.000', 'assignmentMaxDurationSeconds': 900, 'regularSubtype': 'EXAM'}], 'projectMetaInfo': {'projectId': 105273, 'experimentMeta': {'dj_task_duration__snippet__duration_from_minute_to_five': '1', 'dj_project_tag__requester_type__snippet__experienced_requester': '1'}}}, {'refUuid': 'e80c5cc5-0bf9-4c2d-9024-a4eafd605f52', 'groupUuid': 'b4ccc8be-0493-435b-b317-e34458e38e01', 'projectId': 85377, 'mayContainAdultContent': False, 'title': 'Object recognition & detection', 'description': 'Outline a road signs in images', 'hasInstructions': True, 'snapshotMajorVersion': 1, 'snapshotMinorVersion': 1, 'snapshotMajorVersionActual': True, 'assignmentIssuingType': 'AUTOMATIC', 'requesterInfo': {'id': 'a841946b60a3fc816968533af5f8b371', 'name': {'EN': 'michaelyuyangtong'}, 'trusted': False}, 'availability': {'available': True}, 'postAccept': True, 'iframeSubdomain': 'a841946b60a3fc816968533af5f8b371', 'trainingDetails': {'training': False}, 'projectStats': {'grade': {'total_grade': 1.68}}, 'pools': [{'id': 32474078, 'startedAt': '2022-03-20T11:29:40.108', 'reward': '0.010', 'assignmentMaxDurationSeconds': 300, 'acceptancePeriodDays': 7}], 'projectMetaInfo': {'projectId': 85377, 'experimentMeta': {'dj_project_class__snippet__segmentation': '1'}}}, {'refUuid': 'e80c5cc5-0bf9-4c2d-9024-a4eafd605f52', 'groupUuid': 'c96c813d-4b30-4271-ada6-e12975fefa98', 'projectId': 99373, 'mayContainAdultContent': False, 'title': 'Is the given information match the screenshot (updated)', 'description': 'we will give you a screenshot and some information and you need to confirm if the information matches the given screenshot or not', 'hasInstructions': True, 'snapshotMajorVersion': 2, 'snapshotMinorVersion': 8, 'snapshotMajorVersionActual': True, 'assignmentIssuingType': 'AUTOMATIC', 'requesterInfo': {'id': 'b9e777ac936fd8bf33c538fc5c4f5c05', 'name': {'EN': 'Shop Catalog'}, 'trusted': False}, 'availability': {'available': True}, 'postAccept': False, 'iframeSubdomain': 'b9e777ac936fd8bf33c538fc5c4f5c05', 'trainingDetails': {'training': True, 'regularSubtype': 'EXAM', 'regularPoolReward': '0.000', 'mayContainAdultContent': False, 'maxDurationSeconds': 1200, 'acceptanceDetails': {'postAccept': False}}, 'projectStats': {'grade': {'total_grade': 4.68}, 'averageSubmitTimeSec': 208, 'moneyAvgHourly': 0.0, 'moneyAvg': 0.03, 'moneyMed': 0.02, 'moneyTop10': 0.1, 'moneyMax3': 0.15}, 'pools': [{'id': 34136313, 'startedAt': '2022-11-17T22:38:54.043', 'reward': '0.000', 'assignmentMaxDurationSeconds': 1800}], 'projectMetaInfo': {'projectId': 99373, 'experimentMeta': {'dj_task_duration__snippet__duration_from_minute_to_five': '1', 'dj_project_class__snippet__moderation': '1', 'dj_project_tag__requester_type__snippet__experienced_requester': '1'}}}, {'refUuid': 'e80c5cc5-0bf9-4c2d-9024-a4eafd605f52', 'groupUuid': '0211d6bb-8c88-493f-9651-d6eb3d49ff9e', 'projectId': 78414, 'mayContainAdultContent': False, 'lang': 'EN', 'title': 'Check the similarity between two products', 'description': 'In this task, you will see two product listings. The PRODUCT is a product that a user has bookmarked for \\nwhich we would like to show them. The RECOMMENDED PRODUCT offers a product we \\nmight suggest to the user. The goal of this task is to classify these recommendations into one of the \\nfollowing categories based on how closely the RECOMMENDED PRODUCT matches the PRODUCT.', 'hasInstructions': True, 'snapshotMajorVersion': 5, 'snapshotMinorVersion': 11, 'snapshotMajorVersionActual': True, 'assignmentIssuingType': 'AUTOMATIC', 'requesterInfo': {'id': 'dbaa749ed83b3ef412a3167f6c53c363', 'name': {'EN': 'ADE4PA'}, 'trusted': False}, 'availability': {'available': True}, 'postAccept': False, 'iframeSubdomain': 'dbaa749ed83b3ef412a3167f6c53c363', 'trainingDetails': {'training': True, 'regularSubtype': 'EXAM', 'regularPoolReward': '0.000', 'mayContainAdultContent': False, 'maxDurationSeconds': 600, 'acceptanceDetails': {'postAccept': False}}, 'projectStats': {'grade': {'total_grade': 4.33}, 'averageSubmitTimeSec': 363, 'moneyAvgHourly': 0.0, 'moneyAvg': 0.57, 'moneyMed': 0.0, 'moneyTop10': 1.2, 'moneyMax3': 19.83}, 'pools': [{'id': 35838995, 'startedAt': '2022-10-11T23:36:03.957', 'reward': '0.000', 'assignmentMaxDurationSeconds': 120}], 'projectMetaInfo': {'projectId': 78414, 'experimentMeta': {'dj_task_duration__snippet__duration_less_than_minute': '1', 'dj_project_class__snippet__relevance': '1', 'dj_project_tag__requester_type__snippet__experienced_requester': '1'}}}, {'refUuid': 'e80c5cc5-0bf9-4c2d-9024-a4eafd605f52', 'groupUuid': '4c686c08-6927-48f6-b7f5-a42558539e82', 'projectId': 118804, 'mayContainAdultContent': False, 'title': \"Does coupon screenshot match the provided coupon's information? (South Africa)\", 'description': \"Look at the coupon's screenshot and compare it with coupon description. Do they match?\", 'hasInstructions': True, 'snapshotMajorVersion': 1, 'snapshotMinorVersion': 3, 'snapshotMajorVersionActual': True, 'assignmentIssuingType': 'AUTOMATIC', 'requesterInfo': {'id': 'b8867ba0bef402679ca8cf0561e54ba1', 'name': {'EN': 'bing-commerce', 'RU': 'bing-commerce'}, 'trusted': False}, 'availability': {'available': True}, 'postAccept': False, 'iframeSubdomain': 'b8867ba0bef402679ca8cf0561e54ba1', 'trainingDetails': {'training': True, 'regularSubtype': 'EXAM', 'regularPoolReward': '0.020', 'mayContainAdultContent': False, 'maxDurationSeconds': 1200, 'acceptanceDetails': {'postAccept': True, 'acceptanceRate': 99, 'acceptancePeriodDays': 1, 'averageAcceptancePeriodDays': 1.0}}, 'projectStats': {'grade': {'total_grade': 4.72}, 'averageSubmitTimeSec': 202, 'moneyAvgHourly': 0.35643564, 'moneyAvg': 0.02, 'moneyMed': 0.02, 'moneyTop10': 0.02}, 'pools': [{'id': 36265361, 'startedAt': '2022-11-09T11:49:26.005', 'reward': '0.000', 'assignmentMaxDurationSeconds': 3600}], 'projectMetaInfo': {'projectId': 118804, 'experimentMeta': {'dj_task_duration__snippet__duration_less_than_minute': '1', 'dj_project_class__snippet__moderation': '1', 'dj_project_tag__requester_type__snippet__experienced_requester': '1'}}}]\n"
     ]
    }
   ],
   "source": [
    "print(log_content)"
   ]
  },
  {
   "cell_type": "code",
   "execution_count": 125,
   "id": "1cf60343",
   "metadata": {},
   "outputs": [
    {
     "data": {
      "text/plain": [
       "list"
      ]
     },
     "execution_count": 125,
     "metadata": {},
     "output_type": "execute_result"
    }
   ],
   "source": [
    "type(log_content)"
   ]
  },
  {
   "cell_type": "code",
   "execution_count": null,
   "id": "93c5284d",
   "metadata": {},
   "outputs": [],
   "source": []
  }
 ],
 "metadata": {
  "kernelspec": {
   "display_name": "Python 3 (ipykernel)",
   "language": "python",
   "name": "python3"
  },
  "language_info": {
   "codemirror_mode": {
    "name": "ipython",
    "version": 3
   },
   "file_extension": ".py",
   "mimetype": "text/x-python",
   "name": "python",
   "nbconvert_exporter": "python",
   "pygments_lexer": "ipython3",
   "version": "3.9.12"
  }
 },
 "nbformat": 4,
 "nbformat_minor": 5
}
